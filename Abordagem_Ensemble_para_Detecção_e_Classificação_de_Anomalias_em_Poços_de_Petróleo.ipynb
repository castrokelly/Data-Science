{
  "nbformat": 4,
  "nbformat_minor": 0,
  "metadata": {
    "colab": {
      "provenance": [],
      "gpuType": "V5E1",
      "authorship_tag": "ABX9TyPJuuym8EJu4CVGgW5v5Hrz",
      "include_colab_link": true
    },
    "kernelspec": {
      "name": "python3",
      "display_name": "Python 3"
    },
    "language_info": {
      "name": "python"
    },
    "accelerator": "TPU"
  },
  "cells": [
    {
      "cell_type": "markdown",
      "metadata": {
        "id": "view-in-github",
        "colab_type": "text"
      },
      "source": [
        "<a href=\"https://colab.research.google.com/github/castrokelly/Data-Science/blob/main/Abordagem_Ensemble_para_Detec%C3%A7%C3%A3o_e_Classifica%C3%A7%C3%A3o_de_Anomalias_em_Po%C3%A7os_de_Petr%C3%B3leo.ipynb\" target=\"_parent\"><img src=\"https://colab.research.google.com/assets/colab-badge.svg\" alt=\"Open In Colab\"/></a>"
      ]
    },
    {
      "cell_type": "markdown",
      "source": [
        "# Abordagem Ensemble para Detecção e Classificação de Anomalias em Poços de Petróleo: um Estudo Aplicado ao Dataset 3W\n",
        "\n",
        "**Centro de Ciências Matemáticas Aplicadas à Indústria (CeMEAI)**</br>\n",
        "**Instituto de Ciências Matemáticas e de Computação (ICMC)**</br>\n",
        "**Universidade de São Paulo**</br>\n",
        "</br>\n",
        "Aluna: **Kelly Christine Alvarenga de Castro**\n",
        "Área de concentração: Ciências de Dados\n",
        "Orientador: **Prof. Dr. Cláudio Fabiano Motta Toledo**\n",
        "</br>\n",
        "---\n",
        "\n",
        "Este Notebook apresenta o desenvolvimento de um pipeline de aprendizado de máquina para detectar e classificar anomalias em poços de petróleo utilizando o dataset 3W.\n",
        "\n",
        "A abordagem utiliza um modelo ensemble que, em primeiro lugar, decide se o estado é anômalo (classificação binária: normal vs. anômalo) e, caso seja anômalo, classifica o tipo de evento (rótulos de 1 a 9). O treinamento é realizado com dados de um poço e a validação das métricas é efetuada com dados de outro poço.\n",
        "\n"
      ],
      "metadata": {
        "id": "PTmKo-JdXZBU"
      }
    },
    {
      "cell_type": "markdown",
      "source": [
        "Clonagem do repositório contendo o dataset 3W e instalação das bibliotecas necessárias:"
      ],
      "metadata": {
        "id": "iKw696Anck7g"
      }
    },
    {
      "cell_type": "code",
      "source": [
        "!git clone https://github.com/petrobras/3W.git"
      ],
      "metadata": {
        "colab": {
          "base_uri": "https://localhost:8080/"
        },
        "id": "tv4hG0T3cQQP",
        "outputId": "167e6b62-49ca-4a2d-b96f-48add81a9108"
      },
      "execution_count": 60,
      "outputs": [
        {
          "output_type": "stream",
          "name": "stdout",
          "text": [
            "fatal: destination path '3W' already exists and is not an empty directory.\n"
          ]
        }
      ]
    },
    {
      "cell_type": "code",
      "source": [
        "!pip install scikeras #para a integração do Keras com o scikit-learn\n",
        "!pip install PyWavelets #para a transformação wavelet"
      ],
      "metadata": {
        "colab": {
          "base_uri": "https://localhost:8080/"
        },
        "collapsed": true,
        "id": "4j5zTTF6aw-A",
        "outputId": "6756d138-c512-42c5-802d-9e8a4af7b948"
      },
      "execution_count": 61,
      "outputs": [
        {
          "output_type": "stream",
          "name": "stdout",
          "text": [
            "Requirement already satisfied: scikeras in /usr/local/lib/python3.11/dist-packages (0.13.0)\n",
            "Requirement already satisfied: keras>=3.2.0 in /usr/local/lib/python3.11/dist-packages (from scikeras) (3.8.0)\n",
            "Requirement already satisfied: scikit-learn>=1.4.2 in /usr/local/lib/python3.11/dist-packages (from scikeras) (1.6.1)\n",
            "Requirement already satisfied: absl-py in /usr/local/lib/python3.11/dist-packages (from keras>=3.2.0->scikeras) (1.4.0)\n",
            "Requirement already satisfied: numpy in /usr/local/lib/python3.11/dist-packages (from keras>=3.2.0->scikeras) (1.26.4)\n",
            "Requirement already satisfied: rich in /usr/local/lib/python3.11/dist-packages (from keras>=3.2.0->scikeras) (13.9.4)\n",
            "Requirement already satisfied: namex in /usr/local/lib/python3.11/dist-packages (from keras>=3.2.0->scikeras) (0.0.8)\n",
            "Requirement already satisfied: h5py in /usr/local/lib/python3.11/dist-packages (from keras>=3.2.0->scikeras) (3.12.1)\n",
            "Requirement already satisfied: optree in /usr/local/lib/python3.11/dist-packages (from keras>=3.2.0->scikeras) (0.14.0)\n",
            "Requirement already satisfied: ml-dtypes in /usr/local/lib/python3.11/dist-packages (from keras>=3.2.0->scikeras) (0.4.1)\n",
            "Requirement already satisfied: packaging in /usr/local/lib/python3.11/dist-packages (from keras>=3.2.0->scikeras) (24.2)\n",
            "Requirement already satisfied: scipy>=1.6.0 in /usr/local/lib/python3.11/dist-packages (from scikit-learn>=1.4.2->scikeras) (1.13.1)\n",
            "Requirement already satisfied: joblib>=1.2.0 in /usr/local/lib/python3.11/dist-packages (from scikit-learn>=1.4.2->scikeras) (1.4.2)\n",
            "Requirement already satisfied: threadpoolctl>=3.1.0 in /usr/local/lib/python3.11/dist-packages (from scikit-learn>=1.4.2->scikeras) (3.5.0)\n",
            "Requirement already satisfied: typing-extensions>=4.5.0 in /usr/local/lib/python3.11/dist-packages (from optree->keras>=3.2.0->scikeras) (4.12.2)\n",
            "Requirement already satisfied: markdown-it-py>=2.2.0 in /usr/local/lib/python3.11/dist-packages (from rich->keras>=3.2.0->scikeras) (3.0.0)\n",
            "Requirement already satisfied: pygments<3.0.0,>=2.13.0 in /usr/local/lib/python3.11/dist-packages (from rich->keras>=3.2.0->scikeras) (2.19.1)\n",
            "Requirement already satisfied: mdurl~=0.1 in /usr/local/lib/python3.11/dist-packages (from markdown-it-py>=2.2.0->rich->keras>=3.2.0->scikeras) (0.1.2)\n",
            "Requirement already satisfied: PyWavelets in /usr/local/lib/python3.11/dist-packages (1.8.0)\n",
            "Requirement already satisfied: numpy<3,>=1.23 in /usr/local/lib/python3.11/dist-packages (from PyWavelets) (1.26.4)\n"
          ]
        }
      ]
    },
    {
      "cell_type": "markdown",
      "source": [
        "Importação das bibliotecas necessárias para manipulação dos dados, pré-processamento, construção e avaliação dos modelos:"
      ],
      "metadata": {
        "id": "_XnAMImmCZom"
      }
    },
    {
      "cell_type": "code",
      "execution_count": 62,
      "metadata": {
        "id": "EUTwty2mXGOC"
      },
      "outputs": [],
      "source": [
        "# Importação das Bibliotecas Necessárias\n",
        "import os\n",
        "import glob\n",
        "import numpy as np\n",
        "import pandas as pd\n",
        "import pyarrow.parquet as pq\n",
        "import matplotlib.pyplot as plt\n",
        "import pywt\n",
        "\n",
        "from sklearn.model_selection import train_test_split, cross_val_score\n",
        "from sklearn.preprocessing import StandardScaler, LabelEncoder\n",
        "from sklearn.decomposition import PCA\n",
        "from sklearn.ensemble import RandomForestClassifier, GradientBoostingClassifier, StackingClassifier\n",
        "from sklearn.linear_model import LogisticRegression\n",
        "from sklearn.metrics import accuracy_score, f1_score, roc_auc_score, classification_report\n",
        "\n",
        "# Para o modelo LSTM\n",
        "import tensorflow as tf\n",
        "from tensorflow.keras.models import Sequential\n",
        "from tensorflow.keras.layers import LSTM, Dense\n",
        "from scikeras.wrappers import KerasClassifier\n",
        "\n",
        "import matplotlib.pyplot as plt\n",
        "%matplotlib inline\n"
      ]
    },
    {
      "cell_type": "markdown",
      "source": [
        "### Funções para Carregamento e Pré-processamento dos Dados\n",
        "\n",
        "Carregamento dos Dados\n",
        "\n",
        "Cada arquivo Parquet é carregado e uma coluna extra “instance” (identificando o arquivo) é adicionada para posterior agregação."
      ],
      "metadata": {
        "id": "caclGWVlC2BV"
      }
    },
    {
      "cell_type": "code",
      "source": [
        "def load_well_data(paths):\n",
        "    dfs = []\n",
        "    for file in paths:\n",
        "        df = pd.read_parquet(file)\n",
        "        df['instance'] = os.path.basename(file)\n",
        "        dfs.append(df)\n",
        "    return pd.concat(dfs, ignore_index=True)\n"
      ],
      "metadata": {
        "id": "5RFgbVn1v_fr"
      },
      "execution_count": 63,
      "outputs": []
    },
    {
      "cell_type": "markdown",
      "source": [
        "Definindo os caminhos dos arquivos"
      ],
      "metadata": {
        "id": "A3NsF9MD8f-I"
      }
    },
    {
      "cell_type": "code",
      "source": [
        "paths_well41 = [\n",
        "    \"/content/3W/dataset/9/WELL-00041_20181013160201.parquet\",\n",
        "    \"/content/3W/dataset/9/WELL-00041_20190814154301.parquet\",\n",
        "    \"/content/3W/dataset/9/WELL-00041_20190817173916.parquet\",\n",
        "    \"/content/3W/dataset/9/WELL-00041_20190819163753.parquet\",\n",
        "    \"/content/3W/dataset/9/WELL-00041_20190822143519.parquet\",\n",
        "    \"/content/3W/dataset/9/WELL-00041_20190906051807.parquet\",\n",
        "    \"/content/3W/dataset/9/WELL-00041_20190917161232.parquet\",\n",
        "    \"/content/3W/dataset/9/WELL-00041_20190924202109.parquet\",\n",
        "    \"/content/3W/dataset/9/WELL-00041_20190925111412.parquet\"\n",
        "]\n",
        "\n",
        "paths_well42 = [\n",
        "    \"/content/3W/dataset/9/WELL-00042_20141217142745.parquet\",\n",
        "    \"/content/3W/dataset/9/WELL-00042_20141218004109.parquet\",\n",
        "    \"/content/3W/dataset/9/WELL-00042_20141218051903.parquet\",\n",
        "    \"/content/3W/dataset/9/WELL-00042_20141221190219.parquet\",\n",
        "    \"/content/3W/dataset/9/WELL-00042_20141222024535.parquet\"\n",
        "]"
      ],
      "metadata": {
        "id": "zN-pbhvztaRE"
      },
      "execution_count": 64,
      "outputs": []
    },
    {
      "cell_type": "markdown",
      "source": [
        "Carregando os dados dos poços:"
      ],
      "metadata": {
        "id": "GiI2r3Yq8nBY"
      }
    },
    {
      "cell_type": "code",
      "source": [
        "df_well41 = load_well_data(paths_well41)\n",
        "df_well42 = load_well_data(paths_well42)"
      ],
      "metadata": {
        "id": "Fs0CHlVLulUq"
      },
      "execution_count": 65,
      "outputs": []
    },
    {
      "cell_type": "markdown",
      "source": [
        "## Preparação e Agregação dos Dados:\n",
        "\n",
        "Nesta etapa:\n",
        "\n",
        "* Criamos a variável binária `is_anomaly` a partir da coluna “class” (assumindo que 0 = normal e valores 1–9 = anomalia);\n",
        "* Selecionamos as colunas de sensores (todas as colunas numéricas, exceto as de identificação);\n",
        "* Agregamos os dados por instância (arquivo) calculando média, desvio padrão, mínimo e máximo de cada variável.\n",
        "* Essa agregação representa a “definição das melhores features” para o modelo."
      ],
      "metadata": {
        "id": "BSNI7Qy58tA6"
      }
    },
    {
      "cell_type": "code",
      "source": [
        "# Criando a variável binária para detecção de anomalias\n",
        "df_well41['is_anomaly'] = df_well41['class'].apply(lambda x: 0 if x == 0 else 1)\n",
        "df_well42['is_anomaly'] = df_well42['class'].apply(lambda x: 0 if x == 0 else 1)\n"
      ],
      "metadata": {
        "id": "qZG6aiFy8zTg"
      },
      "execution_count": 66,
      "outputs": []
    },
    {
      "cell_type": "code",
      "source": [
        "cols_exclude = ['timestamp', 'instance', 'class', 'is_anomaly']\n",
        "sensor_cols = [col for col in df_well41.columns if col not in cols_exclude and pd.api.types.is_numeric_dtype(df_well41[col])]\n"
      ],
      "metadata": {
        "id": "tvAnlmI59cPQ"
      },
      "execution_count": 67,
      "outputs": []
    },
    {
      "cell_type": "code",
      "source": [
        "def aggregate_features(df, sensor_cols):\n",
        "    # Calcula as estatísticas: média, desvio padrão, mínimo e máximo para cada sensor, agrupado por instância\n",
        "    agg_funcs = ['mean', 'std', 'min', 'max']\n",
        "    agg_df = df.groupby('instance')[sensor_cols].agg(agg_funcs)\n",
        "    agg_df.columns = ['_'.join(col).strip() for col in agg_df.columns.values]\n",
        "\n",
        "    # Recupera os rótulos (assumindo que o valor seja único por instância)\n",
        "    labels = df.groupby('instance')['class'].first()\n",
        "    is_anomaly = df.groupby('instance')['is_anomaly'].first()\n",
        "    agg_df['class'] = labels\n",
        "    agg_df['is_anomaly'] = is_anomaly\n",
        "    return agg_df"
      ],
      "metadata": {
        "id": "__EY021Z9pRx"
      },
      "execution_count": 68,
      "outputs": []
    },
    {
      "cell_type": "code",
      "source": [
        "# Agregando os dados de cada poço\n",
        "agg_well41 = aggregate_features(df_well41, sensor_cols)\n",
        "agg_well42 = aggregate_features(df_well42, sensor_cols)"
      ],
      "metadata": {
        "id": "LnRU4Tz39048"
      },
      "execution_count": 69,
      "outputs": []
    },
    {
      "cell_type": "code",
      "source": [
        "# Visualizando as primeiras linhas do conjunto agregado (poço 41)\n",
        "agg_well41.head()"
      ],
      "metadata": {
        "colab": {
          "base_uri": "https://localhost:8080/",
          "height": 391
        },
        "id": "9I6UCvgO93H1",
        "outputId": "14fd9468-5ce8-48fb-944b-ef7a9155ac15"
      },
      "execution_count": 70,
      "outputs": [
        {
          "output_type": "execute_result",
          "data": {
            "text/plain": [
              "                                   ABER-CKGL_mean  ABER-CKGL_std  \\\n",
              "instance                                                           \n",
              "WELL-00041_20181013160201.parquet            38.0            0.0   \n",
              "WELL-00041_20190814154301.parquet            45.0            0.0   \n",
              "WELL-00041_20190817173916.parquet            45.0            0.0   \n",
              "WELL-00041_20190819163753.parquet            45.0            0.0   \n",
              "WELL-00041_20190822143519.parquet            45.0            0.0   \n",
              "\n",
              "                                   ABER-CKGL_min  ABER-CKGL_max  \\\n",
              "instance                                                          \n",
              "WELL-00041_20181013160201.parquet           38.0           38.0   \n",
              "WELL-00041_20190814154301.parquet           45.0           45.0   \n",
              "WELL-00041_20190817173916.parquet           45.0           45.0   \n",
              "WELL-00041_20190819163753.parquet           45.0           45.0   \n",
              "WELL-00041_20190822143519.parquet           45.0           45.0   \n",
              "\n",
              "                                   ABER-CKP_mean  ABER-CKP_std  ABER-CKP_min  \\\n",
              "instance                                                                       \n",
              "WELL-00041_20181013160201.parquet       44.00000      0.000000          44.0   \n",
              "WELL-00041_20190814154301.parquet       34.47627     10.226568           3.0   \n",
              "WELL-00041_20190817173916.parquet       41.00000      0.000000          41.0   \n",
              "WELL-00041_20190819163753.parquet       41.00000      0.000000          41.0   \n",
              "WELL-00041_20190822143519.parquet       41.00000      0.000000          41.0   \n",
              "\n",
              "                                   ABER-CKP_max  ESTADO-DHSV_mean  \\\n",
              "instance                                                            \n",
              "WELL-00041_20181013160201.parquet          44.0               NaN   \n",
              "WELL-00041_20190814154301.parquet          41.0               NaN   \n",
              "WELL-00041_20190817173916.parquet          41.0               NaN   \n",
              "WELL-00041_20190819163753.parquet          41.0               NaN   \n",
              "WELL-00041_20190822143519.parquet          41.0               NaN   \n",
              "\n",
              "                                   ESTADO-DHSV_std  ...  T-TPT_mean  \\\n",
              "instance                                            ...               \n",
              "WELL-00041_20181013160201.parquet              NaN  ...   69.788760   \n",
              "WELL-00041_20190814154301.parquet              NaN  ...   69.031564   \n",
              "WELL-00041_20190817173916.parquet              NaN  ...   70.020756   \n",
              "WELL-00041_20190819163753.parquet              NaN  ...   70.036766   \n",
              "WELL-00041_20190822143519.parquet              NaN  ...   70.068498   \n",
              "\n",
              "                                   T-TPT_std  T-TPT_min  T-TPT_max  \\\n",
              "instance                                                             \n",
              "WELL-00041_20181013160201.parquet   0.000000   69.78876   69.78876   \n",
              "WELL-00041_20190814154301.parquet   2.149675   52.14698   70.05357   \n",
              "WELL-00041_20190817173916.parquet   0.044872   69.89025   70.15198   \n",
              "WELL-00041_20190819163753.parquet   0.037137   69.91747   70.18568   \n",
              "WELL-00041_20190822143519.parquet   0.199042   69.76263   70.26575   \n",
              "\n",
              "                                   state_mean  state_std  state_min  \\\n",
              "instance                                                              \n",
              "WELL-00041_20181013160201.parquet         0.0        0.0          0   \n",
              "WELL-00041_20190814154301.parquet         0.0        0.0          0   \n",
              "WELL-00041_20190817173916.parquet         0.0        0.0          0   \n",
              "WELL-00041_20190819163753.parquet         0.0        0.0          0   \n",
              "WELL-00041_20190822143519.parquet         0.0        0.0          0   \n",
              "\n",
              "                                   state_max  class  is_anomaly  \n",
              "instance                                                         \n",
              "WELL-00041_20181013160201.parquet          0      0           1  \n",
              "WELL-00041_20190814154301.parquet          0      0           1  \n",
              "WELL-00041_20190817173916.parquet          0      0           1  \n",
              "WELL-00041_20190819163753.parquet          0      0           1  \n",
              "WELL-00041_20190822143519.parquet          0      0           1  \n",
              "\n",
              "[5 rows x 114 columns]"
            ],
            "text/html": [
              "\n",
              "  <div id=\"df-89e7be29-f2ef-4d49-b240-787d9d705ede\" class=\"colab-df-container\">\n",
              "    <div>\n",
              "<style scoped>\n",
              "    .dataframe tbody tr th:only-of-type {\n",
              "        vertical-align: middle;\n",
              "    }\n",
              "\n",
              "    .dataframe tbody tr th {\n",
              "        vertical-align: top;\n",
              "    }\n",
              "\n",
              "    .dataframe thead th {\n",
              "        text-align: right;\n",
              "    }\n",
              "</style>\n",
              "<table border=\"1\" class=\"dataframe\">\n",
              "  <thead>\n",
              "    <tr style=\"text-align: right;\">\n",
              "      <th></th>\n",
              "      <th>ABER-CKGL_mean</th>\n",
              "      <th>ABER-CKGL_std</th>\n",
              "      <th>ABER-CKGL_min</th>\n",
              "      <th>ABER-CKGL_max</th>\n",
              "      <th>ABER-CKP_mean</th>\n",
              "      <th>ABER-CKP_std</th>\n",
              "      <th>ABER-CKP_min</th>\n",
              "      <th>ABER-CKP_max</th>\n",
              "      <th>ESTADO-DHSV_mean</th>\n",
              "      <th>ESTADO-DHSV_std</th>\n",
              "      <th>...</th>\n",
              "      <th>T-TPT_mean</th>\n",
              "      <th>T-TPT_std</th>\n",
              "      <th>T-TPT_min</th>\n",
              "      <th>T-TPT_max</th>\n",
              "      <th>state_mean</th>\n",
              "      <th>state_std</th>\n",
              "      <th>state_min</th>\n",
              "      <th>state_max</th>\n",
              "      <th>class</th>\n",
              "      <th>is_anomaly</th>\n",
              "    </tr>\n",
              "    <tr>\n",
              "      <th>instance</th>\n",
              "      <th></th>\n",
              "      <th></th>\n",
              "      <th></th>\n",
              "      <th></th>\n",
              "      <th></th>\n",
              "      <th></th>\n",
              "      <th></th>\n",
              "      <th></th>\n",
              "      <th></th>\n",
              "      <th></th>\n",
              "      <th></th>\n",
              "      <th></th>\n",
              "      <th></th>\n",
              "      <th></th>\n",
              "      <th></th>\n",
              "      <th></th>\n",
              "      <th></th>\n",
              "      <th></th>\n",
              "      <th></th>\n",
              "      <th></th>\n",
              "      <th></th>\n",
              "    </tr>\n",
              "  </thead>\n",
              "  <tbody>\n",
              "    <tr>\n",
              "      <th>WELL-00041_20181013160201.parquet</th>\n",
              "      <td>38.0</td>\n",
              "      <td>0.0</td>\n",
              "      <td>38.0</td>\n",
              "      <td>38.0</td>\n",
              "      <td>44.00000</td>\n",
              "      <td>0.000000</td>\n",
              "      <td>44.0</td>\n",
              "      <td>44.0</td>\n",
              "      <td>NaN</td>\n",
              "      <td>NaN</td>\n",
              "      <td>...</td>\n",
              "      <td>69.788760</td>\n",
              "      <td>0.000000</td>\n",
              "      <td>69.78876</td>\n",
              "      <td>69.78876</td>\n",
              "      <td>0.0</td>\n",
              "      <td>0.0</td>\n",
              "      <td>0</td>\n",
              "      <td>0</td>\n",
              "      <td>0</td>\n",
              "      <td>1</td>\n",
              "    </tr>\n",
              "    <tr>\n",
              "      <th>WELL-00041_20190814154301.parquet</th>\n",
              "      <td>45.0</td>\n",
              "      <td>0.0</td>\n",
              "      <td>45.0</td>\n",
              "      <td>45.0</td>\n",
              "      <td>34.47627</td>\n",
              "      <td>10.226568</td>\n",
              "      <td>3.0</td>\n",
              "      <td>41.0</td>\n",
              "      <td>NaN</td>\n",
              "      <td>NaN</td>\n",
              "      <td>...</td>\n",
              "      <td>69.031564</td>\n",
              "      <td>2.149675</td>\n",
              "      <td>52.14698</td>\n",
              "      <td>70.05357</td>\n",
              "      <td>0.0</td>\n",
              "      <td>0.0</td>\n",
              "      <td>0</td>\n",
              "      <td>0</td>\n",
              "      <td>0</td>\n",
              "      <td>1</td>\n",
              "    </tr>\n",
              "    <tr>\n",
              "      <th>WELL-00041_20190817173916.parquet</th>\n",
              "      <td>45.0</td>\n",
              "      <td>0.0</td>\n",
              "      <td>45.0</td>\n",
              "      <td>45.0</td>\n",
              "      <td>41.00000</td>\n",
              "      <td>0.000000</td>\n",
              "      <td>41.0</td>\n",
              "      <td>41.0</td>\n",
              "      <td>NaN</td>\n",
              "      <td>NaN</td>\n",
              "      <td>...</td>\n",
              "      <td>70.020756</td>\n",
              "      <td>0.044872</td>\n",
              "      <td>69.89025</td>\n",
              "      <td>70.15198</td>\n",
              "      <td>0.0</td>\n",
              "      <td>0.0</td>\n",
              "      <td>0</td>\n",
              "      <td>0</td>\n",
              "      <td>0</td>\n",
              "      <td>1</td>\n",
              "    </tr>\n",
              "    <tr>\n",
              "      <th>WELL-00041_20190819163753.parquet</th>\n",
              "      <td>45.0</td>\n",
              "      <td>0.0</td>\n",
              "      <td>45.0</td>\n",
              "      <td>45.0</td>\n",
              "      <td>41.00000</td>\n",
              "      <td>0.000000</td>\n",
              "      <td>41.0</td>\n",
              "      <td>41.0</td>\n",
              "      <td>NaN</td>\n",
              "      <td>NaN</td>\n",
              "      <td>...</td>\n",
              "      <td>70.036766</td>\n",
              "      <td>0.037137</td>\n",
              "      <td>69.91747</td>\n",
              "      <td>70.18568</td>\n",
              "      <td>0.0</td>\n",
              "      <td>0.0</td>\n",
              "      <td>0</td>\n",
              "      <td>0</td>\n",
              "      <td>0</td>\n",
              "      <td>1</td>\n",
              "    </tr>\n",
              "    <tr>\n",
              "      <th>WELL-00041_20190822143519.parquet</th>\n",
              "      <td>45.0</td>\n",
              "      <td>0.0</td>\n",
              "      <td>45.0</td>\n",
              "      <td>45.0</td>\n",
              "      <td>41.00000</td>\n",
              "      <td>0.000000</td>\n",
              "      <td>41.0</td>\n",
              "      <td>41.0</td>\n",
              "      <td>NaN</td>\n",
              "      <td>NaN</td>\n",
              "      <td>...</td>\n",
              "      <td>70.068498</td>\n",
              "      <td>0.199042</td>\n",
              "      <td>69.76263</td>\n",
              "      <td>70.26575</td>\n",
              "      <td>0.0</td>\n",
              "      <td>0.0</td>\n",
              "      <td>0</td>\n",
              "      <td>0</td>\n",
              "      <td>0</td>\n",
              "      <td>1</td>\n",
              "    </tr>\n",
              "  </tbody>\n",
              "</table>\n",
              "<p>5 rows × 114 columns</p>\n",
              "</div>\n",
              "    <div class=\"colab-df-buttons\">\n",
              "\n",
              "  <div class=\"colab-df-container\">\n",
              "    <button class=\"colab-df-convert\" onclick=\"convertToInteractive('df-89e7be29-f2ef-4d49-b240-787d9d705ede')\"\n",
              "            title=\"Convert this dataframe to an interactive table.\"\n",
              "            style=\"display:none;\">\n",
              "\n",
              "  <svg xmlns=\"http://www.w3.org/2000/svg\" height=\"24px\" viewBox=\"0 -960 960 960\">\n",
              "    <path d=\"M120-120v-720h720v720H120Zm60-500h600v-160H180v160Zm220 220h160v-160H400v160Zm0 220h160v-160H400v160ZM180-400h160v-160H180v160Zm440 0h160v-160H620v160ZM180-180h160v-160H180v160Zm440 0h160v-160H620v160Z\"/>\n",
              "  </svg>\n",
              "    </button>\n",
              "\n",
              "  <style>\n",
              "    .colab-df-container {\n",
              "      display:flex;\n",
              "      gap: 12px;\n",
              "    }\n",
              "\n",
              "    .colab-df-convert {\n",
              "      background-color: #E8F0FE;\n",
              "      border: none;\n",
              "      border-radius: 50%;\n",
              "      cursor: pointer;\n",
              "      display: none;\n",
              "      fill: #1967D2;\n",
              "      height: 32px;\n",
              "      padding: 0 0 0 0;\n",
              "      width: 32px;\n",
              "    }\n",
              "\n",
              "    .colab-df-convert:hover {\n",
              "      background-color: #E2EBFA;\n",
              "      box-shadow: 0px 1px 2px rgba(60, 64, 67, 0.3), 0px 1px 3px 1px rgba(60, 64, 67, 0.15);\n",
              "      fill: #174EA6;\n",
              "    }\n",
              "\n",
              "    .colab-df-buttons div {\n",
              "      margin-bottom: 4px;\n",
              "    }\n",
              "\n",
              "    [theme=dark] .colab-df-convert {\n",
              "      background-color: #3B4455;\n",
              "      fill: #D2E3FC;\n",
              "    }\n",
              "\n",
              "    [theme=dark] .colab-df-convert:hover {\n",
              "      background-color: #434B5C;\n",
              "      box-shadow: 0px 1px 3px 1px rgba(0, 0, 0, 0.15);\n",
              "      filter: drop-shadow(0px 1px 2px rgba(0, 0, 0, 0.3));\n",
              "      fill: #FFFFFF;\n",
              "    }\n",
              "  </style>\n",
              "\n",
              "    <script>\n",
              "      const buttonEl =\n",
              "        document.querySelector('#df-89e7be29-f2ef-4d49-b240-787d9d705ede button.colab-df-convert');\n",
              "      buttonEl.style.display =\n",
              "        google.colab.kernel.accessAllowed ? 'block' : 'none';\n",
              "\n",
              "      async function convertToInteractive(key) {\n",
              "        const element = document.querySelector('#df-89e7be29-f2ef-4d49-b240-787d9d705ede');\n",
              "        const dataTable =\n",
              "          await google.colab.kernel.invokeFunction('convertToInteractive',\n",
              "                                                    [key], {});\n",
              "        if (!dataTable) return;\n",
              "\n",
              "        const docLinkHtml = 'Like what you see? Visit the ' +\n",
              "          '<a target=\"_blank\" href=https://colab.research.google.com/notebooks/data_table.ipynb>data table notebook</a>'\n",
              "          + ' to learn more about interactive tables.';\n",
              "        element.innerHTML = '';\n",
              "        dataTable['output_type'] = 'display_data';\n",
              "        await google.colab.output.renderOutput(dataTable, element);\n",
              "        const docLink = document.createElement('div');\n",
              "        docLink.innerHTML = docLinkHtml;\n",
              "        element.appendChild(docLink);\n",
              "      }\n",
              "    </script>\n",
              "  </div>\n",
              "\n",
              "\n",
              "<div id=\"df-a63ecda4-2474-4129-aa4e-e0a2e92fd0d2\">\n",
              "  <button class=\"colab-df-quickchart\" onclick=\"quickchart('df-a63ecda4-2474-4129-aa4e-e0a2e92fd0d2')\"\n",
              "            title=\"Suggest charts\"\n",
              "            style=\"display:none;\">\n",
              "\n",
              "<svg xmlns=\"http://www.w3.org/2000/svg\" height=\"24px\"viewBox=\"0 0 24 24\"\n",
              "     width=\"24px\">\n",
              "    <g>\n",
              "        <path d=\"M19 3H5c-1.1 0-2 .9-2 2v14c0 1.1.9 2 2 2h14c1.1 0 2-.9 2-2V5c0-1.1-.9-2-2-2zM9 17H7v-7h2v7zm4 0h-2V7h2v10zm4 0h-2v-4h2v4z\"/>\n",
              "    </g>\n",
              "</svg>\n",
              "  </button>\n",
              "\n",
              "<style>\n",
              "  .colab-df-quickchart {\n",
              "      --bg-color: #E8F0FE;\n",
              "      --fill-color: #1967D2;\n",
              "      --hover-bg-color: #E2EBFA;\n",
              "      --hover-fill-color: #174EA6;\n",
              "      --disabled-fill-color: #AAA;\n",
              "      --disabled-bg-color: #DDD;\n",
              "  }\n",
              "\n",
              "  [theme=dark] .colab-df-quickchart {\n",
              "      --bg-color: #3B4455;\n",
              "      --fill-color: #D2E3FC;\n",
              "      --hover-bg-color: #434B5C;\n",
              "      --hover-fill-color: #FFFFFF;\n",
              "      --disabled-bg-color: #3B4455;\n",
              "      --disabled-fill-color: #666;\n",
              "  }\n",
              "\n",
              "  .colab-df-quickchart {\n",
              "    background-color: var(--bg-color);\n",
              "    border: none;\n",
              "    border-radius: 50%;\n",
              "    cursor: pointer;\n",
              "    display: none;\n",
              "    fill: var(--fill-color);\n",
              "    height: 32px;\n",
              "    padding: 0;\n",
              "    width: 32px;\n",
              "  }\n",
              "\n",
              "  .colab-df-quickchart:hover {\n",
              "    background-color: var(--hover-bg-color);\n",
              "    box-shadow: 0 1px 2px rgba(60, 64, 67, 0.3), 0 1px 3px 1px rgba(60, 64, 67, 0.15);\n",
              "    fill: var(--button-hover-fill-color);\n",
              "  }\n",
              "\n",
              "  .colab-df-quickchart-complete:disabled,\n",
              "  .colab-df-quickchart-complete:disabled:hover {\n",
              "    background-color: var(--disabled-bg-color);\n",
              "    fill: var(--disabled-fill-color);\n",
              "    box-shadow: none;\n",
              "  }\n",
              "\n",
              "  .colab-df-spinner {\n",
              "    border: 2px solid var(--fill-color);\n",
              "    border-color: transparent;\n",
              "    border-bottom-color: var(--fill-color);\n",
              "    animation:\n",
              "      spin 1s steps(1) infinite;\n",
              "  }\n",
              "\n",
              "  @keyframes spin {\n",
              "    0% {\n",
              "      border-color: transparent;\n",
              "      border-bottom-color: var(--fill-color);\n",
              "      border-left-color: var(--fill-color);\n",
              "    }\n",
              "    20% {\n",
              "      border-color: transparent;\n",
              "      border-left-color: var(--fill-color);\n",
              "      border-top-color: var(--fill-color);\n",
              "    }\n",
              "    30% {\n",
              "      border-color: transparent;\n",
              "      border-left-color: var(--fill-color);\n",
              "      border-top-color: var(--fill-color);\n",
              "      border-right-color: var(--fill-color);\n",
              "    }\n",
              "    40% {\n",
              "      border-color: transparent;\n",
              "      border-right-color: var(--fill-color);\n",
              "      border-top-color: var(--fill-color);\n",
              "    }\n",
              "    60% {\n",
              "      border-color: transparent;\n",
              "      border-right-color: var(--fill-color);\n",
              "    }\n",
              "    80% {\n",
              "      border-color: transparent;\n",
              "      border-right-color: var(--fill-color);\n",
              "      border-bottom-color: var(--fill-color);\n",
              "    }\n",
              "    90% {\n",
              "      border-color: transparent;\n",
              "      border-bottom-color: var(--fill-color);\n",
              "    }\n",
              "  }\n",
              "</style>\n",
              "\n",
              "  <script>\n",
              "    async function quickchart(key) {\n",
              "      const quickchartButtonEl =\n",
              "        document.querySelector('#' + key + ' button');\n",
              "      quickchartButtonEl.disabled = true;  // To prevent multiple clicks.\n",
              "      quickchartButtonEl.classList.add('colab-df-spinner');\n",
              "      try {\n",
              "        const charts = await google.colab.kernel.invokeFunction(\n",
              "            'suggestCharts', [key], {});\n",
              "      } catch (error) {\n",
              "        console.error('Error during call to suggestCharts:', error);\n",
              "      }\n",
              "      quickchartButtonEl.classList.remove('colab-df-spinner');\n",
              "      quickchartButtonEl.classList.add('colab-df-quickchart-complete');\n",
              "    }\n",
              "    (() => {\n",
              "      let quickchartButtonEl =\n",
              "        document.querySelector('#df-a63ecda4-2474-4129-aa4e-e0a2e92fd0d2 button');\n",
              "      quickchartButtonEl.style.display =\n",
              "        google.colab.kernel.accessAllowed ? 'block' : 'none';\n",
              "    })();\n",
              "  </script>\n",
              "</div>\n",
              "\n",
              "    </div>\n",
              "  </div>\n"
            ],
            "application/vnd.google.colaboratory.intrinsic+json": {
              "type": "dataframe",
              "variable_name": "agg_well41"
            }
          },
          "metadata": {},
          "execution_count": 70
        }
      ]
    },
    {
      "cell_type": "code",
      "source": [
        "print(agg_well41.isna().sum())"
      ],
      "metadata": {
        "colab": {
          "base_uri": "https://localhost:8080/"
        },
        "id": "-lbRMqA6-7N0",
        "outputId": "98b68fbd-53b9-4603-ca8c-61c37318a4fe"
      },
      "execution_count": 71,
      "outputs": [
        {
          "output_type": "stream",
          "name": "stdout",
          "text": [
            "ABER-CKGL_mean    0\n",
            "ABER-CKGL_std     0\n",
            "ABER-CKGL_min     0\n",
            "ABER-CKGL_max     0\n",
            "ABER-CKP_mean     0\n",
            "                 ..\n",
            "state_std         0\n",
            "state_min         0\n",
            "state_max         0\n",
            "class             0\n",
            "is_anomaly        0\n",
            "Length: 114, dtype: int64\n"
          ]
        }
      ]
    },
    {
      "cell_type": "code",
      "source": [
        "agg_well41_clean = agg_well41.dropna(axis=1)\n",
        "agg_well42_clean = agg_well42.dropna(axis=1)"
      ],
      "metadata": {
        "id": "P0qusxfw_Sg0"
      },
      "execution_count": 72,
      "outputs": []
    },
    {
      "cell_type": "code",
      "source": [
        "# Selecionar apenas as colunas de features (excluindo 'class' e 'is_anomaly')\n",
        "features_well41 = agg_well41_clean.drop(['class', 'is_anomaly'], axis=1)\n",
        "features_well42 = agg_well42_clean.drop(['class', 'is_anomaly'], axis=1)"
      ],
      "metadata": {
        "id": "Ax4KQ6gm_a5G"
      },
      "execution_count": 73,
      "outputs": []
    },
    {
      "cell_type": "markdown",
      "source": [
        "## Pré-Processamento: Normalização e Redução de Dimensionalidade\n",
        "\n",
        "Agora, vamos separar as features e os rótulos (usando o target binário `is_anomaly`), em seguida:\n",
        "\n",
        "* Divisão do conjunto do poço 41 em treino e validação;\n",
        "* Normalização com `StandardScaler`;\n",
        "* Redução de dimensionalidade com PCA (mantendo 95% da variância)."
      ],
      "metadata": {
        "id": "B2-L4LoU98rQ"
      }
    },
    {
      "cell_type": "code",
      "source": [
        "# Separando features e rótulos para o poço 41\n",
        "X_train_full = agg_well41.drop(['class','is_anomaly'], axis=1)\n",
        "y_train_full = agg_well41['is_anomaly']"
      ],
      "metadata": {
        "id": "Sa0CKfxr-UBI"
      },
      "execution_count": 74,
      "outputs": []
    },
    {
      "cell_type": "code",
      "source": [
        "# Para validação externa (poço 42)\n",
        "X_test_deploy = agg_well42.drop(['class','is_anomaly'], axis=1)\n",
        "y_test_deploy = agg_well42['is_anomaly']"
      ],
      "metadata": {
        "id": "3fBcPRy7-ZdN"
      },
      "execution_count": 75,
      "outputs": []
    },
    {
      "cell_type": "code",
      "source": [
        "# Dividindo os dados do poço 41 em treino e validação (70%/30%)\n",
        "X_train, X_val, y_train, y_val = train_test_split(X_train_full, y_train_full, test_size=0.3, random_state=42, stratify=y_train_full)\n"
      ],
      "metadata": {
        "id": "TETMkz1o-dkF"
      },
      "execution_count": 76,
      "outputs": []
    },
    {
      "cell_type": "code",
      "source": [
        "# Normalização\n",
        "scaler = StandardScaler()\n",
        "X_train_scaled = scaler.fit_transform(X_train)\n",
        "X_val_scaled = scaler.transform(X_val)\n",
        "X_train_full_scaled = scaler.transform(X_train_full)\n",
        "X_test_deploy_scaled = scaler.transform(X_test_deploy)"
      ],
      "metadata": {
        "colab": {
          "base_uri": "https://localhost:8080/"
        },
        "id": "QcAVoFPw-hJY",
        "outputId": "78e2dc15-d33e-4d1d-fb96-a5ab7d00c53f"
      },
      "execution_count": 77,
      "outputs": [
        {
          "output_type": "stream",
          "name": "stderr",
          "text": [
            "/usr/local/lib/python3.11/dist-packages/sklearn/utils/extmath.py:1101: RuntimeWarning: invalid value encountered in divide\n",
            "  updated_mean = (last_sum + new_sum) / updated_sample_count\n",
            "/usr/local/lib/python3.11/dist-packages/sklearn/utils/extmath.py:1106: RuntimeWarning: invalid value encountered in divide\n",
            "  T = new_sum / new_sample_count\n",
            "/usr/local/lib/python3.11/dist-packages/sklearn/utils/extmath.py:1126: RuntimeWarning: invalid value encountered in divide\n",
            "  new_unnormalized_variance -= correction**2 / new_sample_count\n"
          ]
        }
      ]
    }
  ]
}