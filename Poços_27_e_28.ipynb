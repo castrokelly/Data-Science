{
  "nbformat": 4,
  "nbformat_minor": 0,
  "metadata": {
    "colab": {
      "provenance": [],
      "machine_shape": "hm",
      "gpuType": "T4",
      "authorship_tag": "ABX9TyNzqtBi4zaz67Xdw68ZuoPD",
      "include_colab_link": true
    },
    "kernelspec": {
      "name": "python3",
      "display_name": "Python 3"
    },
    "language_info": {
      "name": "python"
    },
    "accelerator": "GPU"
  },
  "cells": [
    {
      "cell_type": "markdown",
      "metadata": {
        "id": "view-in-github",
        "colab_type": "text"
      },
      "source": [
        "<a href=\"https://colab.research.google.com/github/castrokelly/Data-Science/blob/main/Po%C3%A7os_27_e_28.ipynb\" target=\"_parent\"><img src=\"https://colab.research.google.com/assets/colab-badge.svg\" alt=\"Open In Colab\"/></a>"
      ]
    },
    {
      "cell_type": "markdown",
      "source": [
        "# Abordagem Ensemble para Detecção e Classificação de Anomalias em Poços de Petróleo: um Estudo Aplicado ao Dataset 3W\n",
        "\n",
        "**Centro de Ciências Matemáticas Aplicadas à Indústria (CeMEAI)**</br>\n",
        "**Instituto de Ciências Matemáticas e de Computação (ICMC)**</br>\n",
        "**Universidade de São Paulo**</br>\n",
        "</br>\n",
        "Aluna: **Kelly Christine Alvarenga de Castro**\n",
        "Área de concentração: Ciências de Dados\n",
        "Orientador: **Prof. Dr. Cláudio Fabiano Motta Toledo**\n",
        "</br>\n",
        "---\n",
        "\n",
        "**Evento:** Formação de hidratos na linha de produção  \n",
        "**Dados Utilizados:**\n",
        "**Poço 27** (treinamento e teste): `/content/3W/dataset/8/WELL-00027_20230918170106.parquet`\n",
        "\n",
        "**Poço 28** (validação): `/content/3W/dataset/8/WELL-00028_20210617053128.parquet`</br>\n",
        "\n",
        "**Abordagem:**\n",
        "* 1. Carregar os dados e remover colunas indesejadas.\n",
        "* 2. Segmentar (`windowing`) os dados em janelas de **2100** linhas (35 minutos).\n",
        "* 3. Agregar as features estatísticas de cada janela e definir o rótulo (usando o valor máximo de \"class\") e a flag `\"is_anomaly\"`.\n",
        "* 4. Pré-processar os dados (remoção de colunas com `NA` nos sensores, eliminação de features com variância zero, normalização e PCA).\n",
        "* 5. Dividir as janelas do Poço 27 em treino (70%) e teste (30%) e balancear o conjunto de treinamento.\n",
        "* 6. Definir os modelos: Random Forest, Gradient Boosting e um modelo LSTM (adaptado para receber dados 2D e fazer reshape interno).\n",
        "* 7. Integrar os modelos via `StackingClassifier` e avaliar o desempenho nos dados de Poço 27 e na validação do Poço 28.\n",
        "\n",
        "**Observação:** Usamos uma classe personalizada `CustomKerasClassifier` para sobrescrever `_get_tags`, contornando um erro relacionado a `__sklearn_tags__`."
      ],
      "metadata": {
        "id": "PTmKo-JdXZBU"
      }
    },
    {
      "cell_type": "markdown",
      "source": [
        "Clonagem do repositório contendo o dataset 3W e instalação das bibliotecas necessárias:"
      ],
      "metadata": {
        "id": "iKw696Anck7g"
      }
    },
    {
      "cell_type": "code",
      "source": [
        "!git clone https://github.com/petrobras/3W.git"
      ],
      "metadata": {
        "colab": {
          "base_uri": "https://localhost:8080/"
        },
        "id": "tv4hG0T3cQQP",
        "outputId": "5d784fe4-ed44-4a78-b4de-17671ae6c24b"
      },
      "execution_count": 19,
      "outputs": [
        {
          "output_type": "stream",
          "name": "stdout",
          "text": [
            "fatal: destination path '3W' already exists and is not an empty directory.\n"
          ]
        }
      ]
    },
    {
      "cell_type": "markdown",
      "source": [
        "Importação das bibliotecas necessárias para manipulação dos dados, pré-processamento, construção e avaliação dos modelos:"
      ],
      "metadata": {
        "id": "_XnAMImmCZom"
      }
    },
    {
      "cell_type": "code",
      "source": [
        "!pip install --upgrade scikeras scikit-learn\n"
      ],
      "metadata": {
        "colab": {
          "base_uri": "https://localhost:8080/"
        },
        "collapsed": true,
        "id": "Uj2H4BnPCtDS",
        "outputId": "9cc1bb90-9785-41fe-9499-207c57861d05"
      },
      "execution_count": 20,
      "outputs": [
        {
          "output_type": "stream",
          "name": "stdout",
          "text": [
            "\u001b[33mWARNING: Ignoring invalid distribution ~cikit-learn (/usr/local/lib/python3.11/dist-packages)\u001b[0m\u001b[33m\n",
            "\u001b[0m\u001b[33mWARNING: Ignoring invalid distribution ~cikit-learn (/usr/local/lib/python3.11/dist-packages)\u001b[0m\u001b[33m\n",
            "\u001b[0mRequirement already satisfied: scikeras in /usr/local/lib/python3.11/dist-packages (0.13.0)\n",
            "Collecting scikit-learn\n",
            "  Using cached scikit_learn-1.6.1-cp311-cp311-manylinux_2_17_x86_64.manylinux2014_x86_64.whl.metadata (18 kB)\n",
            "Requirement already satisfied: keras>=3.2.0 in /usr/local/lib/python3.11/dist-packages (from scikeras) (3.8.0)\n",
            "Requirement already satisfied: numpy>=1.19.5 in /usr/local/lib/python3.11/dist-packages (from scikit-learn) (2.2.2)\n",
            "Requirement already satisfied: scipy>=1.6.0 in /usr/local/lib/python3.11/dist-packages (from scikit-learn) (1.15.1)\n",
            "Requirement already satisfied: joblib>=1.2.0 in /usr/local/lib/python3.11/dist-packages (from scikit-learn) (1.4.2)\n",
            "Requirement already satisfied: threadpoolctl>=3.1.0 in /usr/local/lib/python3.11/dist-packages (from scikit-learn) (3.5.0)\n",
            "Requirement already satisfied: absl-py in /usr/local/lib/python3.11/dist-packages (from keras>=3.2.0->scikeras) (2.1.0)\n",
            "Requirement already satisfied: rich in /usr/local/lib/python3.11/dist-packages (from keras>=3.2.0->scikeras) (13.9.4)\n",
            "Requirement already satisfied: namex in /usr/local/lib/python3.11/dist-packages (from keras>=3.2.0->scikeras) (0.0.8)\n",
            "Requirement already satisfied: h5py in /usr/local/lib/python3.11/dist-packages (from keras>=3.2.0->scikeras) (3.12.1)\n",
            "Requirement already satisfied: optree in /usr/local/lib/python3.11/dist-packages (from keras>=3.2.0->scikeras) (0.14.0)\n",
            "Requirement already satisfied: ml-dtypes in /usr/local/lib/python3.11/dist-packages (from keras>=3.2.0->scikeras) (0.4.1)\n",
            "Requirement already satisfied: packaging in /usr/local/lib/python3.11/dist-packages (from keras>=3.2.0->scikeras) (24.2)\n",
            "Requirement already satisfied: typing-extensions>=4.5.0 in /usr/local/lib/python3.11/dist-packages (from optree->keras>=3.2.0->scikeras) (4.12.2)\n",
            "Requirement already satisfied: markdown-it-py>=2.2.0 in /usr/local/lib/python3.11/dist-packages (from rich->keras>=3.2.0->scikeras) (3.0.0)\n",
            "Requirement already satisfied: pygments<3.0.0,>=2.13.0 in /usr/local/lib/python3.11/dist-packages (from rich->keras>=3.2.0->scikeras) (2.19.1)\n",
            "Requirement already satisfied: mdurl~=0.1 in /usr/local/lib/python3.11/dist-packages (from markdown-it-py>=2.2.0->rich->keras>=3.2.0->scikeras) (0.1.2)\n",
            "Using cached scikit_learn-1.6.1-cp311-cp311-manylinux_2_17_x86_64.manylinux2014_x86_64.whl (13.5 MB)\n",
            "\u001b[33mWARNING: Ignoring invalid distribution ~cikit-learn (/usr/local/lib/python3.11/dist-packages)\u001b[0m\u001b[33m\n",
            "\u001b[0mInstalling collected packages: scikit-learn\n",
            "\u001b[33mWARNING: Ignoring invalid distribution ~cikit-learn (/usr/local/lib/python3.11/dist-packages)\u001b[0m\u001b[33m\n",
            "\u001b[0mSuccessfully installed scikit-learn\n"
          ]
        }
      ]
    },
    {
      "cell_type": "code",
      "execution_count": 53,
      "metadata": {
        "colab": {
          "base_uri": "https://localhost:8080/"
        },
        "id": "EUTwty2mXGOC",
        "outputId": "d1eae68d-c4a3-4e04-a41d-c83833e8b6d3"
      },
      "outputs": [
        {
          "output_type": "stream",
          "name": "stdout",
          "text": [
            "\u001b[33mWARNING: Ignoring invalid distribution ~cikit-learn (/usr/local/lib/python3.11/dist-packages)\u001b[0m\u001b[33m\n",
            "\u001b[0m\u001b[33mWARNING: Ignoring invalid distribution ~cikit-learn (/usr/local/lib/python3.11/dist-packages)\u001b[0m\u001b[33m\n",
            "\u001b[0m\u001b[33mWARNING: Ignoring invalid distribution ~cikit-learn (/usr/local/lib/python3.11/dist-packages)\u001b[0m\u001b[33m\n",
            "\u001b[0m\u001b[33mWARNING: Ignoring invalid distribution ~cikit-learn (/usr/local/lib/python3.11/dist-packages)\u001b[0m\u001b[33m\n",
            "\u001b[0m"
          ]
        }
      ],
      "source": [
        "import os\n",
        "import numpy as np\n",
        "import pandas as pd\n",
        "import pywt\n",
        "import seaborn as sns\n",
        "\n",
        "from sklearn.model_selection import train_test_split\n",
        "from sklearn.decomposition import PCA\n",
        "from sklearn.preprocessing import StandardScaler\n",
        "from sklearn.feature_selection import VarianceThreshold\n",
        "from sklearn.ensemble import RandomForestClassifier, GradientBoostingClassifier\n",
        "from sklearn.linear_model import LogisticRegression\n",
        "from sklearn.metrics import f1_score, roc_auc_score, confusion_matrix, accuracy_score, roc_curve, auc\n",
        "\n",
        "!pip install imblearn -q\n",
        "from imblearn.over_sampling import RandomOverSampler\n",
        "\n",
        "import tensorflow as tf\n",
        "from tensorflow.keras.models import Sequential\n",
        "from tensorflow.keras.layers import Input, Reshape, LSTM, Dense, Dropout\n",
        "from scikeras.wrappers import KerasClassifier\n",
        "\n",
        "import matplotlib.pyplot as plt\n",
        "%matplotlib inline\n"
      ]
    },
    {
      "cell_type": "markdown",
      "source": [
        "### Funções para Carregamento e Pré-processamento dos Dados\n",
        "\n",
        "Carregamento dos Dados\n",
        "\n",
        "Estas funções carregam os dados, removem as colunas indesejadas, fazem o windowing (segmentação) e agregam as features."
      ],
      "metadata": {
        "id": "caclGWVlC2BV"
      }
    },
    {
      "cell_type": "code",
      "source": [
        "def load_well_data(file_path):\n",
        "    \"\"\"Carrega um arquivo Parquet.\"\"\"\n",
        "    return pd.read_parquet(file_path)\n",
        "\n",
        "def remove_columns(df, cols_to_drop):\n",
        "    \"\"\"Remove as colunas especificadas do DataFrame.\"\"\"\n",
        "    return df.drop(columns=cols_to_drop, errors='ignore')\n",
        "\n",
        "def window_data(df, window_size):\n",
        "    \"\"\"\n",
        "    Divide o DataFrame em janelas não sobrepostas de tamanho window_size (número de linhas).\n",
        "    Cada janela recebe um identificador único na coluna 'instance'.\n",
        "    Se o DataFrame tiver menos linhas que window_size, retorna-o como uma única janela.\n",
        "    \"\"\"\n",
        "    windows = []\n",
        "    num_rows = df.shape[0]\n",
        "    if num_rows < window_size:\n",
        "        df = df.copy()\n",
        "        df['instance'] = \"window_0\"\n",
        "        return df\n",
        "    for start in range(0, num_rows, window_size):\n",
        "        window = df.iloc[start:start+window_size].copy()\n",
        "        if len(window) < window_size:\n",
        "            continue\n",
        "        window['instance'] = f\"window_{start}\"\n",
        "        windows.append(window)\n",
        "    return pd.concat(windows, ignore_index=True) if windows else pd.DataFrame()\n"
      ],
      "metadata": {
        "id": "5RFgbVn1v_fr"
      },
      "execution_count": 34,
      "outputs": []
    },
    {
      "cell_type": "code",
      "source": [
        "def aggregate_features(df, sensor_cols):\n",
        "    \"\"\"\n",
        "    Para cada janela (definida pela coluna 'instance'), calcula:\n",
        "    - Média, desvio padrão, mínimo e máximo para cada sensor.\n",
        "    - Para a coluna 'class', utiliza o valor máximo da janela.\n",
        "    Define 'is_anomaly' como 0 se todos os valores de 'class' forem 0; caso contrário, 1.\n",
        "    \"\"\"\n",
        "    agg_funcs = ['mean', 'std', 'min', 'max']\n",
        "    agg_df = df.groupby('instance')[sensor_cols].agg(agg_funcs)\n",
        "    agg_df.columns = ['_'.join(col).strip() for col in agg_df.columns.values]\n",
        "\n",
        "    classes = df.groupby('instance')['class'].max()\n",
        "    is_anomaly = df.groupby('instance')['class'].apply(lambda x: 0 if (x==0).all() else 1)\n",
        "\n",
        "    agg_df['class'] = classes\n",
        "    agg_df['is_anomaly'] = is_anomaly\n",
        "    return agg_df"
      ],
      "metadata": {
        "id": "5IxaBwe0k2Np"
      },
      "execution_count": 35,
      "outputs": []
    },
    {
      "cell_type": "markdown",
      "source": [
        "Carregando os dados dos poços:"
      ],
      "metadata": {
        "id": "GiI2r3Yq8nBY"
      }
    },
    {
      "cell_type": "code",
      "source": [
        "cols_to_drop = [\"T-PDG\", \"T-JUS-CKP\", \"QBS\", \"PT-P\", \"P-PDG\", \"P-MON-SDV-P\",\n",
        "                \"P-JUS-CKP\", \"P-MON-CKGL\", \"P-JUS-BS\", \"P-ANULAR\", \"ESTADO-DHSV\",\"ABER-CKGL\", \"ABER-CKP\"]\n",
        "\n",
        "file_well27 = \"/content/3W/dataset/8/WELL-00027_20230918170106.parquet\"\n",
        "file_well28 = \"/content/3W/dataset/8/WELL-00028_20210617053128.parquet\"\n",
        "\n",
        "df_well27 = load_well_data(file_well27)\n",
        "df_well28 = load_well_data(file_well28)\n",
        "\n",
        "df_well27 = remove_columns(df_well27, cols_to_drop)\n",
        "df_well28 = remove_columns(df_well28, cols_to_drop)\n",
        "\n",
        "# Tamanho da janela: 35 minutos = 35*60 = 2100 linhas (dados a cada 1 seg)\n",
        "window_size = 2100"
      ],
      "metadata": {
        "id": "Fs0CHlVLulUq"
      },
      "execution_count": 24,
      "outputs": []
    },
    {
      "cell_type": "code",
      "source": [
        "df_well27_win = window_data(df_well27, window_size)\n",
        "df_well28_win = window_data(df_well28, window_size)\n",
        "\n",
        "print(\"Número de janelas (Poço 27):\", df_well27_win['instance'].nunique())\n",
        "print(\"Número de janelas (Poço 28):\", df_well28_win['instance'].nunique())"
      ],
      "metadata": {
        "colab": {
          "base_uri": "https://localhost:8080/"
        },
        "id": "VPSUGlHalrb3",
        "outputId": "83f3d6e5-fa3b-45bc-8f50-b5bec01a9391"
      },
      "execution_count": 25,
      "outputs": [
        {
          "output_type": "stream",
          "name": "stdout",
          "text": [
            "Número de janelas (Poço 27): 324\n",
            "Número de janelas (Poço 28): 154\n"
          ]
        }
      ]
    },
    {
      "cell_type": "markdown",
      "source": [
        "## Agregação dos Dados e Extração de Features:\n",
        "\n",
        "Selecionamos as colunas numéricas (exceto \"timestamp\", \"instance\" e \"class\") e agregamos as janelas.\n",
        "\n",
        "O rótulo da janela é o valor máximo de \"class\" e definimos \"is_anomaly\" como 0 se todos os valores forem 0, caso contrário 1."
      ],
      "metadata": {
        "id": "BSNI7Qy58tA6"
      }
    },
    {
      "cell_type": "code",
      "source": [
        "cols_exclude = ['timestamp', 'instance', 'class']\n",
        "sensor_cols = [col for col in df_well27_win.columns if col not in cols_exclude and pd.api.types.is_numeric_dtype(df_well27_win[col])]\n",
        "\n",
        "agg_well27 = aggregate_features(df_well27_win, sensor_cols)\n",
        "agg_well28 = aggregate_features(df_well28_win, sensor_cols)\n",
        "\n",
        "print(\"Exemplo de agregação (Poço 27):\")\n",
        "print(agg_well27.head())"
      ],
      "metadata": {
        "colab": {
          "base_uri": "https://localhost:8080/"
        },
        "id": "qZG6aiFy8zTg",
        "outputId": "fb7c7600-fe7f-414c-b1c3-4e5420da2fd3"
      },
      "execution_count": 26,
      "outputs": [
        {
          "output_type": "stream",
          "name": "stdout",
          "text": [
            "Exemplo de agregação (Poço 27):\n",
            "               ESTADO-M1_mean  ESTADO-M1_std  ESTADO-M1_min  ESTADO-M1_max  \\\n",
            "instance                                                                     \n",
            "window_0                  1.0            0.0            1.0            1.0   \n",
            "window_100800             0.0            0.0            0.0            0.0   \n",
            "window_102900             0.0            0.0            0.0            0.0   \n",
            "window_10500              1.0            0.0            1.0            1.0   \n",
            "window_105000             0.0            0.0            0.0            0.0   \n",
            "\n",
            "               ESTADO-M2_mean  ESTADO-M2_std  ESTADO-M2_min  ESTADO-M2_max  \\\n",
            "instance                                                                     \n",
            "window_0                  0.0            0.0            0.0            0.0   \n",
            "window_100800             0.0            0.0            0.0            0.0   \n",
            "window_102900             0.0            0.0            0.0            0.0   \n",
            "window_10500              0.0            0.0            0.0            0.0   \n",
            "window_105000             0.0            0.0            0.0            0.0   \n",
            "\n",
            "               ESTADO-PXO_mean  ESTADO-PXO_std  ...  T-TPT_mean  T-TPT_std  \\\n",
            "instance                                        ...                          \n",
            "window_0                   0.0             0.0  ...    3.470762        0.0   \n",
            "window_100800              0.0             0.0  ...    3.470762        0.0   \n",
            "window_102900              0.0             0.0  ...    3.470762        0.0   \n",
            "window_10500               0.0             0.0  ...    3.470762        0.0   \n",
            "window_105000              0.0             0.0  ...    3.470762        0.0   \n",
            "\n",
            "               T-TPT_min  T-TPT_max  state_mean  state_std  state_min  \\\n",
            "instance                                                                \n",
            "window_0        3.470762   3.470762        <NA>       <NA>       <NA>   \n",
            "window_100800   3.470762   3.470762         1.0        0.0          1   \n",
            "window_102900   3.470762   3.470762         1.0        0.0          1   \n",
            "window_10500    3.470762   3.470762         0.0        0.0          0   \n",
            "window_105000   3.470762   3.470762         1.0        0.0          1   \n",
            "\n",
            "               state_max  class  is_anomaly  \n",
            "instance                                     \n",
            "window_0            <NA>   <NA>           0  \n",
            "window_100800          1    108           1  \n",
            "window_102900          1    108           1  \n",
            "window_10500           0      0           0  \n",
            "window_105000          1    108           1  \n",
            "\n",
            "[5 rows x 62 columns]\n"
          ]
        }
      ]
    },
    {
      "cell_type": "markdown",
      "source": [
        "## Pré-Processamento: Limpeza, normalização e PCA\n",
        "\n",
        "Em vez de remover todas as colunas com NA (para não eliminar os rótulos), removemos somente as colunas de sensores que contenham NA.\n",
        "\n",
        "Em seguida, separamos as features (colunas de sensores) dos rótulos (\"class\" e \"is_anomaly\") e aplicamos normalização e PCA.\n"
      ],
      "metadata": {
        "id": "B2-L4LoU98rQ"
      }
    },
    {
      "cell_type": "code",
      "source": [
        "# Obtemos as colunas de sensor de agg_well27 (excluindo \"class\" e \"is_anomaly\")\n",
        "sensor_cols_27 = agg_well27.drop(['class','is_anomaly'], axis=1).columns\n",
        "mask_27 = agg_well27[sensor_cols_27].notna().all()  # Retorna uma Series com True para as colunas completas\n",
        "complete_cols_27 = set(sensor_cols_27[mask_27])\n",
        "\n",
        "# Fazemos o mesmo para agg_well28\n",
        "sensor_cols_28 = agg_well28.drop(['class','is_anomaly'], axis=1).columns\n",
        "mask_28 = agg_well28[sensor_cols_28].notna().all()\n",
        "complete_cols_28 = set(sensor_cols_28[mask_28])\n",
        "\n",
        "# A interseção (colunas completas em ambos os conjuntos)\n",
        "common_sensor_cols = list(complete_cols_27 & complete_cols_28)\n",
        "\n",
        "# Preservamos a ordem original de agg_well27\n",
        "common_sensor_cols = [col for col in agg_well27.columns if col in common_sensor_cols and col not in ['class','is_anomaly']]\n",
        "\n",
        "print(\"Número de colunas de sensor completas em ambos os conjuntos:\", len(common_sensor_cols))\n",
        "\n",
        "# Em seguida, restringimos os DataFrames agregados a essas colunas, mantendo também os rótulos:\n",
        "agg_well27_final = agg_well27[common_sensor_cols + ['class','is_anomaly']]\n",
        "agg_well28_final = agg_well28[common_sensor_cols + ['class','is_anomaly']]\n"
      ],
      "metadata": {
        "colab": {
          "base_uri": "https://localhost:8080/"
        },
        "id": "OwVPEreqErwM",
        "outputId": "5a6a0099-cc0c-4153-b48d-7b1ee683c745"
      },
      "execution_count": 27,
      "outputs": [
        {
          "output_type": "stream",
          "name": "stdout",
          "text": [
            "Número de colunas de sensor completas em ambos os conjuntos: 52\n"
          ]
        }
      ]
    },
    {
      "cell_type": "markdown",
      "source": [
        "## Pré-processamento: Normalização e PCA\n",
        "\n",
        "Separamos as features (dados dos sensores) dos rótulos (\"class\" e \"is_anomaly\"), normalizamos e aplicamos PCA (mantendo 95% da variância).\n"
      ],
      "metadata": {
        "id": "-uZsIYiSFmG3"
      }
    },
    {
      "cell_type": "code",
      "source": [
        "features_well27 = agg_well27_final.drop(['class','is_anomaly'], axis=1)\n",
        "features_well28 = agg_well28_final.drop(['class','is_anomaly'], axis=1)\n",
        "target_well27 = agg_well27_final['is_anomaly']\n",
        "target_well28 = agg_well28_final['is_anomaly']\n"
      ],
      "metadata": {
        "id": "tuv5TgHeFwAL"
      },
      "execution_count": 36,
      "outputs": []
    },
    {
      "cell_type": "code",
      "source": [
        "# Eliminação de features com variância zero\n",
        "selector = VarianceThreshold(threshold=0)\n",
        "features_well27_sel = selector.fit_transform(features_well27)\n",
        "features_well28_sel = selector.transform(features_well28)\n",
        "features_selected = features_well27.columns[selector.get_support()]\n",
        "\n",
        "X_well27 = pd.DataFrame(features_well27_sel, columns=features_selected, index=features_well27.index)\n",
        "X_well28 = pd.DataFrame(features_well28_sel, columns=features_selected, index=features_well28.index)\n",
        "\n",
        "print(\"Número de features após seleção:\", X_well27.shape[1])"
      ],
      "metadata": {
        "colab": {
          "base_uri": "https://localhost:8080/"
        },
        "id": "11E6dLjIDVZ4",
        "outputId": "3881b44c-3b85-4341-847e-1f004c028053"
      },
      "execution_count": 37,
      "outputs": [
        {
          "output_type": "stream",
          "name": "stdout",
          "text": [
            "Número de features após seleção: 44\n"
          ]
        }
      ]
    },
    {
      "cell_type": "markdown",
      "source": [
        "## Divisão do Conjunto do Poço 27 e Balanceamento\n",
        "\n",
        "Dividimos as janelas do Poço 27 em treino (70%) e teste (30%) e usamos RandomOverSampler para balancear o conjunto de treinamento.\n"
      ],
      "metadata": {
        "id": "AIFuQpaEExVL"
      }
    },
    {
      "cell_type": "code",
      "source": [
        "X_train, X_test, y_train, y_test = train_test_split(X_well27, target_well27, test_size=0.3, random_state=42, stratify=target_well27)\n",
        "print(\"Distribuição inicial em y_train:\", np.unique(y_train, return_counts=True))\n",
        "\n",
        "ros = RandomOverSampler(random_state=42)\n",
        "X_train_bal, y_train_bal = ros.fit_resample(X_train, y_train)\n",
        "print(\"Distribuição balanceada em y_train:\", np.unique(y_train_bal, return_counts=True))\n",
        "\n"
      ],
      "metadata": {
        "colab": {
          "base_uri": "https://localhost:8080/"
        },
        "id": "-GvEZ6eBFCAs",
        "outputId": "329b4722-bb61-4d18-8a05-b3eadaa9ba2b"
      },
      "execution_count": 38,
      "outputs": [
        {
          "output_type": "stream",
          "name": "stdout",
          "text": [
            "Distribuição inicial em y_train: (array([0, 1]), array([ 17, 209]))\n",
            "Distribuição balanceada em y_train: (array([0, 1]), array([209, 209]))\n"
          ]
        }
      ]
    },
    {
      "cell_type": "markdown",
      "source": [
        "## Normalização e Redução de Dimensionalidade (PCA)\n",
        "\n",
        "Aplicamos StandardScaler e PCA (mantendo 95% da variância) aos conjuntos de treino, teste e validação.\n"
      ],
      "metadata": {
        "id": "BRl0t10fAcc1"
      }
    },
    {
      "cell_type": "code",
      "source": [
        "scaler = StandardScaler()\n",
        "X_train_scaled = scaler.fit_transform(X_train_bal)\n",
        "X_test_scaled  = scaler.transform(X_test)\n",
        "X_well27_full_scaled = scaler.transform(X_well27)\n",
        "X_well28_scaled = scaler.transform(X_well28)\n",
        "\n",
        "pca = PCA(n_components=0.95, random_state=42)\n",
        "X_train_pca = pca.fit_transform(X_train_scaled)\n",
        "X_test_pca  = pca.transform(X_test_scaled)\n",
        "X_well27_full_pca = pca.transform(X_well27_full_scaled)\n",
        "X_well28_pca = pca.transform(X_well28_scaled)\n",
        "\n",
        "n_features = X_train_pca.shape[1]\n",
        "print(\"Número de features após PCA:\", n_features)"
      ],
      "metadata": {
        "colab": {
          "base_uri": "https://localhost:8080/"
        },
        "id": "QVkvhVAYO-tl",
        "outputId": "64b19c92-7617-448b-f6dc-4c2f21fbf45f"
      },
      "execution_count": 39,
      "outputs": [
        {
          "output_type": "stream",
          "name": "stdout",
          "text": [
            "Número de features após PCA: 9\n"
          ]
        }
      ]
    },
    {
      "cell_type": "markdown",
      "source": [
        "## Modelagem: Definição dos Modelos e Empilhamento Manual (Stacking)\n",
        "\n",
        "Para contornar problemas de compatibilidade com `StackingClassifier` e `KerasClassifier`,implementaremos o stacking de forma manual:\n",
        "\n",
        "* Treinamos separadamente os modelos base (Random Forest, Gradient Boosting e LSTM).\n",
        "\n",
        "* Obtemos as predições (probabilidades da classe positiva) de cada modelo no conjunto de treino.\n",
        "\n",
        "* Empilhamos essas predições como novas features e treinamos um meta-classificador (LogisticRegression).\n",
        "\n",
        "Para os conjuntos de teste e validação, fazemos o mesmo procedimento para obter as predições finais.\n"
      ],
      "metadata": {
        "id": "MMFQAVzbFH1B"
      }
    },
    {
      "cell_type": "code",
      "source": [
        "# Treinamento dos modelos base\n",
        "rf_clf = RandomForestClassifier(n_estimators=100, random_state=42)\n",
        "gb_clf = GradientBoostingClassifier(n_estimators=100, random_state=42)\n",
        "\n",
        "# Definindo o modelo LSTM usando KerasClassifier (não vamos usar o StackingClassifier, mas faremos o stacking manualmente)\n",
        "def create_lstm_model(input_shape):\n",
        "    model = Sequential()\n",
        "    model.add(Input(shape=input_shape))\n",
        "    model.add(Reshape((1, input_shape[0])))\n",
        "    model.add(LSTM(50, return_sequences=False))\n",
        "    model.add(Dropout(0.2))\n",
        "    model.add(Dense(1, activation='sigmoid'))\n",
        "    model.compile(loss='binary_crossentropy', optimizer='adam', metrics=['accuracy'])\n",
        "    return model\n",
        "\n",
        "lstm_clf = KerasClassifier(model=create_lstm_model,\n",
        "                             model__input_shape=(n_features,),\n",
        "                             epochs=10, batch_size=16, verbose=0)\n",
        "\n",
        "# Treinamento nos dados de treino (X_train_pca, y_train_bal)\n",
        "rf_clf.fit(X_train_pca, y_train_bal)\n",
        "gb_clf.fit(X_train_pca, y_train_bal)\n",
        "lstm_clf.fit(X_train_pca, y_train_bal)\n",
        "\n",
        "# Obtenha as probabilidades de cada modelo no conjunto de treino (coluna da classe 1)\n",
        "rf_train_preds = rf_clf.predict_proba(X_train_pca)[:,1].reshape(-1,1)\n",
        "gb_train_preds = gb_clf.predict_proba(X_train_pca)[:,1].reshape(-1,1)\n",
        "lstm_train_preds = lstm_clf.predict_proba(X_train_pca)[:,1].reshape(-1,1)\n",
        "\n",
        "# Empilha as predições para formar o conjunto meta de treino\n",
        "X_meta_train = np.hstack([rf_train_preds, gb_train_preds, lstm_train_preds])\n",
        "\n",
        "# Treina o meta-classificador\n",
        "meta_clf = LogisticRegression()\n",
        "meta_clf.fit(X_meta_train, y_train_bal)"
      ],
      "metadata": {
        "colab": {
          "base_uri": "https://localhost:8080/",
          "height": 80
        },
        "id": "6F15lhVoA8Lu",
        "outputId": "c7892d16-1bae-4f02-9bf9-514a886e2e29"
      },
      "execution_count": 43,
      "outputs": [
        {
          "output_type": "execute_result",
          "data": {
            "text/plain": [
              "LogisticRegression()"
            ],
            "text/html": [
              "<style>#sk-container-id-1 {\n",
              "  /* Definition of color scheme common for light and dark mode */\n",
              "  --sklearn-color-text: #000;\n",
              "  --sklearn-color-text-muted: #666;\n",
              "  --sklearn-color-line: gray;\n",
              "  /* Definition of color scheme for unfitted estimators */\n",
              "  --sklearn-color-unfitted-level-0: #fff5e6;\n",
              "  --sklearn-color-unfitted-level-1: #f6e4d2;\n",
              "  --sklearn-color-unfitted-level-2: #ffe0b3;\n",
              "  --sklearn-color-unfitted-level-3: chocolate;\n",
              "  /* Definition of color scheme for fitted estimators */\n",
              "  --sklearn-color-fitted-level-0: #f0f8ff;\n",
              "  --sklearn-color-fitted-level-1: #d4ebff;\n",
              "  --sklearn-color-fitted-level-2: #b3dbfd;\n",
              "  --sklearn-color-fitted-level-3: cornflowerblue;\n",
              "\n",
              "  /* Specific color for light theme */\n",
              "  --sklearn-color-text-on-default-background: var(--sg-text-color, var(--theme-code-foreground, var(--jp-content-font-color1, black)));\n",
              "  --sklearn-color-background: var(--sg-background-color, var(--theme-background, var(--jp-layout-color0, white)));\n",
              "  --sklearn-color-border-box: var(--sg-text-color, var(--theme-code-foreground, var(--jp-content-font-color1, black)));\n",
              "  --sklearn-color-icon: #696969;\n",
              "\n",
              "  @media (prefers-color-scheme: dark) {\n",
              "    /* Redefinition of color scheme for dark theme */\n",
              "    --sklearn-color-text-on-default-background: var(--sg-text-color, var(--theme-code-foreground, var(--jp-content-font-color1, white)));\n",
              "    --sklearn-color-background: var(--sg-background-color, var(--theme-background, var(--jp-layout-color0, #111)));\n",
              "    --sklearn-color-border-box: var(--sg-text-color, var(--theme-code-foreground, var(--jp-content-font-color1, white)));\n",
              "    --sklearn-color-icon: #878787;\n",
              "  }\n",
              "}\n",
              "\n",
              "#sk-container-id-1 {\n",
              "  color: var(--sklearn-color-text);\n",
              "}\n",
              "\n",
              "#sk-container-id-1 pre {\n",
              "  padding: 0;\n",
              "}\n",
              "\n",
              "#sk-container-id-1 input.sk-hidden--visually {\n",
              "  border: 0;\n",
              "  clip: rect(1px 1px 1px 1px);\n",
              "  clip: rect(1px, 1px, 1px, 1px);\n",
              "  height: 1px;\n",
              "  margin: -1px;\n",
              "  overflow: hidden;\n",
              "  padding: 0;\n",
              "  position: absolute;\n",
              "  width: 1px;\n",
              "}\n",
              "\n",
              "#sk-container-id-1 div.sk-dashed-wrapped {\n",
              "  border: 1px dashed var(--sklearn-color-line);\n",
              "  margin: 0 0.4em 0.5em 0.4em;\n",
              "  box-sizing: border-box;\n",
              "  padding-bottom: 0.4em;\n",
              "  background-color: var(--sklearn-color-background);\n",
              "}\n",
              "\n",
              "#sk-container-id-1 div.sk-container {\n",
              "  /* jupyter's `normalize.less` sets `[hidden] { display: none; }`\n",
              "     but bootstrap.min.css set `[hidden] { display: none !important; }`\n",
              "     so we also need the `!important` here to be able to override the\n",
              "     default hidden behavior on the sphinx rendered scikit-learn.org.\n",
              "     See: https://github.com/scikit-learn/scikit-learn/issues/21755 */\n",
              "  display: inline-block !important;\n",
              "  position: relative;\n",
              "}\n",
              "\n",
              "#sk-container-id-1 div.sk-text-repr-fallback {\n",
              "  display: none;\n",
              "}\n",
              "\n",
              "div.sk-parallel-item,\n",
              "div.sk-serial,\n",
              "div.sk-item {\n",
              "  /* draw centered vertical line to link estimators */\n",
              "  background-image: linear-gradient(var(--sklearn-color-text-on-default-background), var(--sklearn-color-text-on-default-background));\n",
              "  background-size: 2px 100%;\n",
              "  background-repeat: no-repeat;\n",
              "  background-position: center center;\n",
              "}\n",
              "\n",
              "/* Parallel-specific style estimator block */\n",
              "\n",
              "#sk-container-id-1 div.sk-parallel-item::after {\n",
              "  content: \"\";\n",
              "  width: 100%;\n",
              "  border-bottom: 2px solid var(--sklearn-color-text-on-default-background);\n",
              "  flex-grow: 1;\n",
              "}\n",
              "\n",
              "#sk-container-id-1 div.sk-parallel {\n",
              "  display: flex;\n",
              "  align-items: stretch;\n",
              "  justify-content: center;\n",
              "  background-color: var(--sklearn-color-background);\n",
              "  position: relative;\n",
              "}\n",
              "\n",
              "#sk-container-id-1 div.sk-parallel-item {\n",
              "  display: flex;\n",
              "  flex-direction: column;\n",
              "}\n",
              "\n",
              "#sk-container-id-1 div.sk-parallel-item:first-child::after {\n",
              "  align-self: flex-end;\n",
              "  width: 50%;\n",
              "}\n",
              "\n",
              "#sk-container-id-1 div.sk-parallel-item:last-child::after {\n",
              "  align-self: flex-start;\n",
              "  width: 50%;\n",
              "}\n",
              "\n",
              "#sk-container-id-1 div.sk-parallel-item:only-child::after {\n",
              "  width: 0;\n",
              "}\n",
              "\n",
              "/* Serial-specific style estimator block */\n",
              "\n",
              "#sk-container-id-1 div.sk-serial {\n",
              "  display: flex;\n",
              "  flex-direction: column;\n",
              "  align-items: center;\n",
              "  background-color: var(--sklearn-color-background);\n",
              "  padding-right: 1em;\n",
              "  padding-left: 1em;\n",
              "}\n",
              "\n",
              "\n",
              "/* Toggleable style: style used for estimator/Pipeline/ColumnTransformer box that is\n",
              "clickable and can be expanded/collapsed.\n",
              "- Pipeline and ColumnTransformer use this feature and define the default style\n",
              "- Estimators will overwrite some part of the style using the `sk-estimator` class\n",
              "*/\n",
              "\n",
              "/* Pipeline and ColumnTransformer style (default) */\n",
              "\n",
              "#sk-container-id-1 div.sk-toggleable {\n",
              "  /* Default theme specific background. It is overwritten whether we have a\n",
              "  specific estimator or a Pipeline/ColumnTransformer */\n",
              "  background-color: var(--sklearn-color-background);\n",
              "}\n",
              "\n",
              "/* Toggleable label */\n",
              "#sk-container-id-1 label.sk-toggleable__label {\n",
              "  cursor: pointer;\n",
              "  display: flex;\n",
              "  width: 100%;\n",
              "  margin-bottom: 0;\n",
              "  padding: 0.5em;\n",
              "  box-sizing: border-box;\n",
              "  text-align: center;\n",
              "  align-items: start;\n",
              "  justify-content: space-between;\n",
              "  gap: 0.5em;\n",
              "}\n",
              "\n",
              "#sk-container-id-1 label.sk-toggleable__label .caption {\n",
              "  font-size: 0.6rem;\n",
              "  font-weight: lighter;\n",
              "  color: var(--sklearn-color-text-muted);\n",
              "}\n",
              "\n",
              "#sk-container-id-1 label.sk-toggleable__label-arrow:before {\n",
              "  /* Arrow on the left of the label */\n",
              "  content: \"▸\";\n",
              "  float: left;\n",
              "  margin-right: 0.25em;\n",
              "  color: var(--sklearn-color-icon);\n",
              "}\n",
              "\n",
              "#sk-container-id-1 label.sk-toggleable__label-arrow:hover:before {\n",
              "  color: var(--sklearn-color-text);\n",
              "}\n",
              "\n",
              "/* Toggleable content - dropdown */\n",
              "\n",
              "#sk-container-id-1 div.sk-toggleable__content {\n",
              "  max-height: 0;\n",
              "  max-width: 0;\n",
              "  overflow: hidden;\n",
              "  text-align: left;\n",
              "  /* unfitted */\n",
              "  background-color: var(--sklearn-color-unfitted-level-0);\n",
              "}\n",
              "\n",
              "#sk-container-id-1 div.sk-toggleable__content.fitted {\n",
              "  /* fitted */\n",
              "  background-color: var(--sklearn-color-fitted-level-0);\n",
              "}\n",
              "\n",
              "#sk-container-id-1 div.sk-toggleable__content pre {\n",
              "  margin: 0.2em;\n",
              "  border-radius: 0.25em;\n",
              "  color: var(--sklearn-color-text);\n",
              "  /* unfitted */\n",
              "  background-color: var(--sklearn-color-unfitted-level-0);\n",
              "}\n",
              "\n",
              "#sk-container-id-1 div.sk-toggleable__content.fitted pre {\n",
              "  /* unfitted */\n",
              "  background-color: var(--sklearn-color-fitted-level-0);\n",
              "}\n",
              "\n",
              "#sk-container-id-1 input.sk-toggleable__control:checked~div.sk-toggleable__content {\n",
              "  /* Expand drop-down */\n",
              "  max-height: 200px;\n",
              "  max-width: 100%;\n",
              "  overflow: auto;\n",
              "}\n",
              "\n",
              "#sk-container-id-1 input.sk-toggleable__control:checked~label.sk-toggleable__label-arrow:before {\n",
              "  content: \"▾\";\n",
              "}\n",
              "\n",
              "/* Pipeline/ColumnTransformer-specific style */\n",
              "\n",
              "#sk-container-id-1 div.sk-label input.sk-toggleable__control:checked~label.sk-toggleable__label {\n",
              "  color: var(--sklearn-color-text);\n",
              "  background-color: var(--sklearn-color-unfitted-level-2);\n",
              "}\n",
              "\n",
              "#sk-container-id-1 div.sk-label.fitted input.sk-toggleable__control:checked~label.sk-toggleable__label {\n",
              "  background-color: var(--sklearn-color-fitted-level-2);\n",
              "}\n",
              "\n",
              "/* Estimator-specific style */\n",
              "\n",
              "/* Colorize estimator box */\n",
              "#sk-container-id-1 div.sk-estimator input.sk-toggleable__control:checked~label.sk-toggleable__label {\n",
              "  /* unfitted */\n",
              "  background-color: var(--sklearn-color-unfitted-level-2);\n",
              "}\n",
              "\n",
              "#sk-container-id-1 div.sk-estimator.fitted input.sk-toggleable__control:checked~label.sk-toggleable__label {\n",
              "  /* fitted */\n",
              "  background-color: var(--sklearn-color-fitted-level-2);\n",
              "}\n",
              "\n",
              "#sk-container-id-1 div.sk-label label.sk-toggleable__label,\n",
              "#sk-container-id-1 div.sk-label label {\n",
              "  /* The background is the default theme color */\n",
              "  color: var(--sklearn-color-text-on-default-background);\n",
              "}\n",
              "\n",
              "/* On hover, darken the color of the background */\n",
              "#sk-container-id-1 div.sk-label:hover label.sk-toggleable__label {\n",
              "  color: var(--sklearn-color-text);\n",
              "  background-color: var(--sklearn-color-unfitted-level-2);\n",
              "}\n",
              "\n",
              "/* Label box, darken color on hover, fitted */\n",
              "#sk-container-id-1 div.sk-label.fitted:hover label.sk-toggleable__label.fitted {\n",
              "  color: var(--sklearn-color-text);\n",
              "  background-color: var(--sklearn-color-fitted-level-2);\n",
              "}\n",
              "\n",
              "/* Estimator label */\n",
              "\n",
              "#sk-container-id-1 div.sk-label label {\n",
              "  font-family: monospace;\n",
              "  font-weight: bold;\n",
              "  display: inline-block;\n",
              "  line-height: 1.2em;\n",
              "}\n",
              "\n",
              "#sk-container-id-1 div.sk-label-container {\n",
              "  text-align: center;\n",
              "}\n",
              "\n",
              "/* Estimator-specific */\n",
              "#sk-container-id-1 div.sk-estimator {\n",
              "  font-family: monospace;\n",
              "  border: 1px dotted var(--sklearn-color-border-box);\n",
              "  border-radius: 0.25em;\n",
              "  box-sizing: border-box;\n",
              "  margin-bottom: 0.5em;\n",
              "  /* unfitted */\n",
              "  background-color: var(--sklearn-color-unfitted-level-0);\n",
              "}\n",
              "\n",
              "#sk-container-id-1 div.sk-estimator.fitted {\n",
              "  /* fitted */\n",
              "  background-color: var(--sklearn-color-fitted-level-0);\n",
              "}\n",
              "\n",
              "/* on hover */\n",
              "#sk-container-id-1 div.sk-estimator:hover {\n",
              "  /* unfitted */\n",
              "  background-color: var(--sklearn-color-unfitted-level-2);\n",
              "}\n",
              "\n",
              "#sk-container-id-1 div.sk-estimator.fitted:hover {\n",
              "  /* fitted */\n",
              "  background-color: var(--sklearn-color-fitted-level-2);\n",
              "}\n",
              "\n",
              "/* Specification for estimator info (e.g. \"i\" and \"?\") */\n",
              "\n",
              "/* Common style for \"i\" and \"?\" */\n",
              "\n",
              ".sk-estimator-doc-link,\n",
              "a:link.sk-estimator-doc-link,\n",
              "a:visited.sk-estimator-doc-link {\n",
              "  float: right;\n",
              "  font-size: smaller;\n",
              "  line-height: 1em;\n",
              "  font-family: monospace;\n",
              "  background-color: var(--sklearn-color-background);\n",
              "  border-radius: 1em;\n",
              "  height: 1em;\n",
              "  width: 1em;\n",
              "  text-decoration: none !important;\n",
              "  margin-left: 0.5em;\n",
              "  text-align: center;\n",
              "  /* unfitted */\n",
              "  border: var(--sklearn-color-unfitted-level-1) 1pt solid;\n",
              "  color: var(--sklearn-color-unfitted-level-1);\n",
              "}\n",
              "\n",
              ".sk-estimator-doc-link.fitted,\n",
              "a:link.sk-estimator-doc-link.fitted,\n",
              "a:visited.sk-estimator-doc-link.fitted {\n",
              "  /* fitted */\n",
              "  border: var(--sklearn-color-fitted-level-1) 1pt solid;\n",
              "  color: var(--sklearn-color-fitted-level-1);\n",
              "}\n",
              "\n",
              "/* On hover */\n",
              "div.sk-estimator:hover .sk-estimator-doc-link:hover,\n",
              ".sk-estimator-doc-link:hover,\n",
              "div.sk-label-container:hover .sk-estimator-doc-link:hover,\n",
              ".sk-estimator-doc-link:hover {\n",
              "  /* unfitted */\n",
              "  background-color: var(--sklearn-color-unfitted-level-3);\n",
              "  color: var(--sklearn-color-background);\n",
              "  text-decoration: none;\n",
              "}\n",
              "\n",
              "div.sk-estimator.fitted:hover .sk-estimator-doc-link.fitted:hover,\n",
              ".sk-estimator-doc-link.fitted:hover,\n",
              "div.sk-label-container:hover .sk-estimator-doc-link.fitted:hover,\n",
              ".sk-estimator-doc-link.fitted:hover {\n",
              "  /* fitted */\n",
              "  background-color: var(--sklearn-color-fitted-level-3);\n",
              "  color: var(--sklearn-color-background);\n",
              "  text-decoration: none;\n",
              "}\n",
              "\n",
              "/* Span, style for the box shown on hovering the info icon */\n",
              ".sk-estimator-doc-link span {\n",
              "  display: none;\n",
              "  z-index: 9999;\n",
              "  position: relative;\n",
              "  font-weight: normal;\n",
              "  right: .2ex;\n",
              "  padding: .5ex;\n",
              "  margin: .5ex;\n",
              "  width: min-content;\n",
              "  min-width: 20ex;\n",
              "  max-width: 50ex;\n",
              "  color: var(--sklearn-color-text);\n",
              "  box-shadow: 2pt 2pt 4pt #999;\n",
              "  /* unfitted */\n",
              "  background: var(--sklearn-color-unfitted-level-0);\n",
              "  border: .5pt solid var(--sklearn-color-unfitted-level-3);\n",
              "}\n",
              "\n",
              ".sk-estimator-doc-link.fitted span {\n",
              "  /* fitted */\n",
              "  background: var(--sklearn-color-fitted-level-0);\n",
              "  border: var(--sklearn-color-fitted-level-3);\n",
              "}\n",
              "\n",
              ".sk-estimator-doc-link:hover span {\n",
              "  display: block;\n",
              "}\n",
              "\n",
              "/* \"?\"-specific style due to the `<a>` HTML tag */\n",
              "\n",
              "#sk-container-id-1 a.estimator_doc_link {\n",
              "  float: right;\n",
              "  font-size: 1rem;\n",
              "  line-height: 1em;\n",
              "  font-family: monospace;\n",
              "  background-color: var(--sklearn-color-background);\n",
              "  border-radius: 1rem;\n",
              "  height: 1rem;\n",
              "  width: 1rem;\n",
              "  text-decoration: none;\n",
              "  /* unfitted */\n",
              "  color: var(--sklearn-color-unfitted-level-1);\n",
              "  border: var(--sklearn-color-unfitted-level-1) 1pt solid;\n",
              "}\n",
              "\n",
              "#sk-container-id-1 a.estimator_doc_link.fitted {\n",
              "  /* fitted */\n",
              "  border: var(--sklearn-color-fitted-level-1) 1pt solid;\n",
              "  color: var(--sklearn-color-fitted-level-1);\n",
              "}\n",
              "\n",
              "/* On hover */\n",
              "#sk-container-id-1 a.estimator_doc_link:hover {\n",
              "  /* unfitted */\n",
              "  background-color: var(--sklearn-color-unfitted-level-3);\n",
              "  color: var(--sklearn-color-background);\n",
              "  text-decoration: none;\n",
              "}\n",
              "\n",
              "#sk-container-id-1 a.estimator_doc_link.fitted:hover {\n",
              "  /* fitted */\n",
              "  background-color: var(--sklearn-color-fitted-level-3);\n",
              "}\n",
              "</style><div id=\"sk-container-id-1\" class=\"sk-top-container\"><div class=\"sk-text-repr-fallback\"><pre>LogisticRegression()</pre><b>In a Jupyter environment, please rerun this cell to show the HTML representation or trust the notebook. <br />On GitHub, the HTML representation is unable to render, please try loading this page with nbviewer.org.</b></div><div class=\"sk-container\" hidden><div class=\"sk-item\"><div class=\"sk-estimator fitted sk-toggleable\"><input class=\"sk-toggleable__control sk-hidden--visually\" id=\"sk-estimator-id-1\" type=\"checkbox\" checked><label for=\"sk-estimator-id-1\" class=\"sk-toggleable__label fitted sk-toggleable__label-arrow\"><div><div>LogisticRegression</div></div><div><a class=\"sk-estimator-doc-link fitted\" rel=\"noreferrer\" target=\"_blank\" href=\"https://scikit-learn.org/1.6/modules/generated/sklearn.linear_model.LogisticRegression.html\">?<span>Documentation for LogisticRegression</span></a><span class=\"sk-estimator-doc-link fitted\">i<span>Fitted</span></span></div></label><div class=\"sk-toggleable__content fitted\"><pre>LogisticRegression()</pre></div> </div></div></div></div>"
            ]
          },
          "metadata": {},
          "execution_count": 43
        }
      ]
    },
    {
      "cell_type": "markdown",
      "source": [
        "## 10. Treinamento e Avaliação Interna (Poço 27)\n",
        "\n",
        "Obtemos as predições dos modelos base no conjunto de teste, empilhamos e usamos o meta-classificador para as predições finais.\n",
        "\n"
      ],
      "metadata": {
        "id": "kje7T1fCBBHJ"
      }
    },
    {
      "cell_type": "code",
      "source": [
        "rf_test_preds = rf_clf.predict_proba(X_test_pca)[:,1].reshape(-1,1)\n",
        "gb_test_preds = gb_clf.predict_proba(X_test_pca)[:,1].reshape(-1,1)\n",
        "lstm_test_preds = lstm_clf.predict_proba(X_test_pca)[:,1].reshape(-1,1)\n",
        "X_meta_test = np.hstack([rf_test_preds, gb_test_preds, lstm_test_preds])\n",
        "final_test_preds = meta_clf.predict(X_meta_test)\n",
        "\n",
        "f1 = f1_score(y_test, final_test_preds)\n",
        "accuracy = accuracy_score(y_test, final_test_preds)\n",
        "roc_auc = roc_auc_score(y_test, meta_clf.predict_proba(X_meta_test)[:,1])\n",
        "cm = confusion_matrix(y_test, final_test_preds)\n",
        "\n",
        "print(\"### Métricas de Teste Interno (Poço 27)\")\n",
        "print(\"Acurácia:\", accuracy)\n",
        "print(\"F1 Score:\", f1)\n",
        "print(\"ROC AUC:\", roc_auc)\n",
        "print(\"Matriz de Confusão:\\n\", cm)\n",
        "\n",
        "tn, fp, fn, tp = cm.ravel()\n",
        "specificity = tn / (tn + fp) if (tn + fp) != 0 else 0\n",
        "far = fp / (tn + fp) if (tn + fp) != 0 else 0\n",
        "print(\"Especificidade (SPE):\", specificity)\n",
        "print(\"Taxa de Falsos Alarmes (FAR):\", far)\n"
      ],
      "metadata": {
        "colab": {
          "base_uri": "https://localhost:8080/"
        },
        "id": "qN6Lv-kIBFN_",
        "outputId": "e7731130-267a-43db-da7e-e9a4be3bafbb"
      },
      "execution_count": 54,
      "outputs": [
        {
          "output_type": "stream",
          "name": "stdout",
          "text": [
            "### Métricas de Teste Interno (Poço 27)\n",
            "Acurácia: 1.0\n",
            "F1 Score: 1.0\n",
            "ROC AUC: 1.0\n",
            "Matriz de Confusão:\n",
            " [[ 8  0]\n",
            " [ 0 90]]\n",
            "Especificidade (SPE): 1.0\n",
            "Taxa de Falsos Alarmes (FAR): 0.0\n"
          ]
        }
      ]
    },
    {
      "cell_type": "markdown",
      "source": [
        "Confusion Matrix e a ROC Curve para o conjunto de teste do Poço 27:"
      ],
      "metadata": {
        "id": "CMLDdea6H70X"
      }
    },
    {
      "cell_type": "code",
      "source": [
        "# Confusion Matrix\n",
        "plt.figure(figsize=(6,5))\n",
        "sns.heatmap(cm, annot=True, fmt=\"d\", cmap=\"Blues\")\n",
        "plt.title(\"Confusion Matrix - Internal Test (Poço 27)\")\n",
        "plt.xlabel(\"Predicted\")\n",
        "plt.ylabel(\"True\")\n",
        "plt.show()\n",
        "\n",
        "# ROC Curve\n",
        "meta_test_proba = meta_clf.predict_proba(X_meta_test)[:,1]\n",
        "fpr, tpr, thresholds = roc_curve(y_test, meta_test_proba)\n",
        "roc_auc_value = auc(fpr, tpr)\n",
        "\n",
        "plt.figure(figsize=(6,5))\n",
        "plt.plot(fpr, tpr, color='darkorange', lw=2, label=f'ROC curve (area = {roc_auc_value:.2f})')\n",
        "plt.plot([0,1], [0,1], color='navy', lw=2, linestyle='--')\n",
        "plt.xlim([0.0, 1.0])\n",
        "plt.ylim([0.0, 1.05])\n",
        "plt.xlabel(\"False Positive Rate\")\n",
        "plt.ylabel(\"True Positive Rate\")\n",
        "plt.title(\"ROC Curve - Internal Test (Poço 27)\")\n",
        "plt.legend(loc=\"lower right\")\n",
        "plt.show()"
      ],
      "metadata": {
        "colab": {
          "base_uri": "https://localhost:8080/",
          "height": 957
        },
        "id": "qbXScfmGH9ZG",
        "outputId": "29b9a527-0cd0-4924-be66-a7e13f7e3533"
      },
      "execution_count": 56,
      "outputs": [
        {
          "output_type": "display_data",
          "data": {
            "text/plain": [
              "<Figure size 600x500 with 2 Axes>"
            ],
            "image/png": "[encoded data removed]"
          },
          "metadata": {}
        },
        {
          "output_type": "display_data",
          "data": {
            "text/plain": [
              "<Figure size 600x500 with 1 Axes>"
            ],
            "image/png": "[encoded data removed]"
          },
          "metadata": {}
        }
      ]
    },
    {
      "cell_type": "markdown",
      "source": [
        "## Validação Externa com Dados do Poço 28\n",
        "\n",
        "Geramos as predições dos modelos base para o conjunto de validação (Poço 28), empilhamos e usamos o meta-classificador.\n",
        "\n"
      ],
      "metadata": {
        "id": "tNeFXCDcBQ2g"
      }
    },
    {
      "cell_type": "code",
      "source": [
        "rf_val_preds = rf_clf.predict_proba(X_well28_pca)[:,1].reshape(-1,1)\n",
        "gb_val_preds = gb_clf.predict_proba(X_well28_pca)[:,1].reshape(-1,1)\n",
        "lstm_val_preds = lstm_clf.predict_proba(X_well28_pca)[:,1].reshape(-1,1)\n",
        "X_meta_val = np.hstack([rf_val_preds, gb_val_preds, lstm_val_preds])\n",
        "final_val_preds = meta_clf.predict(X_meta_val)\n",
        "\n",
        "f1_val = f1_score(target_well28, final_val_preds)\n",
        "accuracy_val = accuracy_score(target_well28, final_val_preds)\n",
        "roc_auc_val = roc_auc_score(target_well28, meta_clf.predict_proba(X_meta_val)[:,1])\n",
        "cm_val = confusion_matrix(target_well28, final_val_preds)\n",
        "\n",
        "print(\"\\n### Métricas de Validação (Poço 28)\")\n",
        "print(\"Acurácia:\", accuracy_val)\n",
        "print(\"F1 Score:\", f1_val)\n",
        "print(\"ROC AUC:\", roc_auc_val)\n",
        "print(\"Matriz de Confusão:\\n\", cm_val)\n",
        "\n",
        "tn_v, fp_v, fn_v, tp_v = cm_val.ravel()\n",
        "specificity_val = tn_v / (tn_v + fp_v) if (tn_v + fp_v) != 0 else 0\n",
        "far_val = fp_v / (tn_v + fp_v) if (tn_v + fp_v) != 0 else 0\n",
        "print(\"Especificidade (SPE):\", specificity_val)\n",
        "print(\"Taxa de Falsos Alarmes (FAR):\", far_val)"
      ],
      "metadata": {
        "colab": {
          "base_uri": "https://localhost:8080/"
        },
        "id": "qwlak9q7BYRc",
        "outputId": "5e947cc3-086b-443a-f607-0b8b4b273bed"
      },
      "execution_count": 45,
      "outputs": [
        {
          "output_type": "stream",
          "name": "stdout",
          "text": [
            "\n",
            "### Métricas de Validação (Poço 28)\n",
            "Acurácia: 0.8506493506493507\n",
            "F1 Score: 0.915129151291513\n",
            "ROC AUC: 0.9511019283746557\n",
            "Matriz de Confusão:\n",
            " [[  7  15]\n",
            " [  8 124]]\n",
            "Especificidade (SPE): 0.3181818181818182\n",
            "Taxa de Falsos Alarmes (FAR): 0.6818181818181818\n"
          ]
        }
      ]
    },
    {
      "cell_type": "markdown",
      "source": [
        "Confusion Matrix e a ROC Curve para o conjunto de validação do Poço 28:"
      ],
      "metadata": {
        "id": "GBBSzFXUIHn1"
      }
    },
    {
      "cell_type": "code",
      "source": [
        "# Confusion Matrix - Validação\n",
        "plt.figure(figsize=(6,5))\n",
        "sns.heatmap(cm_val, annot=True, fmt=\"d\", cmap=\"Greens\")\n",
        "plt.title(\"Confusion Matrix - Validation (Poço 28)\")\n",
        "plt.xlabel(\"Predicted\")\n",
        "plt.ylabel(\"True\")\n",
        "plt.show()\n",
        "\n",
        "# ROC Curve - Validação\n",
        "meta_val_proba = meta_clf.predict_proba(X_meta_val)[:,1]\n",
        "fpr_val, tpr_val, thresholds_val = roc_curve(target_well28, meta_val_proba)\n",
        "roc_auc_val_value = auc(fpr_val, tpr_val)\n",
        "\n",
        "plt.figure(figsize=(6,5))\n",
        "plt.plot(fpr_val, tpr_val, color='darkorange', lw=2, label=f'ROC curve (area = {roc_auc_val_value:.2f})')\n",
        "plt.plot([0,1], [0,1], color='navy', lw=2, linestyle='--')\n",
        "plt.xlim([0.0, 1.0])\n",
        "plt.ylim([0.0, 1.05])\n",
        "plt.xlabel(\"False Positive Rate\")\n",
        "plt.ylabel(\"True Positive Rate\")\n",
        "plt.title(\"ROC Curve - Validation (Poço 28)\")\n",
        "plt.legend(loc=\"lower right\")\n",
        "plt.show()"
      ],
      "metadata": {
        "colab": {
          "base_uri": "https://localhost:8080/",
          "height": 957
        },
        "id": "TM64nJUaIKon",
        "outputId": "6cd63bf6-d522-438c-ce1d-8c6f9b1dfcb2"
      },
      "execution_count": 57,
      "outputs": [
        {
          "output_type": "display_data",
          "data": {
            "text/plain": [
              "<Figure size 600x500 with 2 Axes>"
            ],
            "image/png": "[encoded data removed]"
          },
          "metadata": {}
        },
        {
          "output_type": "display_data",
          "data": {
            "text/plain": [
              "<Figure size 600x500 with 1 Axes>"
            ],
            "image/png": "[encoded data removed]"
          },
          "metadata": {}
        }
      ]
    }
  ]
}